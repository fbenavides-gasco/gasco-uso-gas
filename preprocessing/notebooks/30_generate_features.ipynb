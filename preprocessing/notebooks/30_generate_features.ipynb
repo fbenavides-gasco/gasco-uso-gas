{
 "cells": [
  {
   "cell_type": "markdown",
   "metadata": {},
   "source": [
    "# 30_generate_features\n",
    "\n",
    "## Descripción: qué se hace acá?\n",
    "\n",
    "## Dependencias:\n",
    "\n",
    "+ **Input**: \n",
    "\t+ datos:  *ubicación de datos de input*\n",
    "\t+ modelos: *ubicación de modelos de input*\n",
    "+ **Output**:\n",
    "\t+ datos: *ubicación de datos de ouput*\n",
    "\t+ modelos: *ubicación de modelos de output*\n"
   ]
  },
  {
   "cell_type": "code",
   "execution_count": null,
   "metadata": {},
   "outputs": [],
   "source": [
    "%matplotlib inline\n",
    "import matplotlib.pyplot as plt\n",
    "import pandas as pd\n",
    "import numpy as np\n",
    "import sys\n",
    "#Path de amazon. Cambiar el path en google cloud\n",
    "sys.path.append(\"/home/ubuntu/spike-efs/SpikePy/\")  \n",
    "import SpikePy as sp\n"
   ]
  }
 ],
 "metadata": {},
 "nbformat": 4,
 "nbformat_minor": 4
}
