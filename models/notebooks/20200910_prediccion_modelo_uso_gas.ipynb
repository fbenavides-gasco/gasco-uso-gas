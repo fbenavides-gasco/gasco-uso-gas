{
 "cells": [
  {
   "cell_type": "code",
   "execution_count": 1,
   "metadata": {
    "ExecuteTime": {
     "end_time": "2021-02-18T16:04:36.752301Z",
     "start_time": "2021-02-18T16:04:35.295693Z"
    }
   },
   "outputs": [],
   "source": [
    "%matplotlib inline\n",
    "import matplotlib.pyplot as plt\n",
    "import seaborn as sns\n",
    "import pandas as pd\n",
    "import numpy as np\n",
    "import feather\n",
    "\n",
    "PID = 'gasco-analytics'"
   ]
  },
  {
   "cell_type": "code",
   "execution_count": 3,
   "metadata": {
    "ExecuteTime": {
     "end_time": "2021-02-18T16:06:41.381566Z",
     "start_time": "2021-02-18T16:06:02.673061Z"
    }
   },
   "outputs": [],
   "source": [
    "query = '''SELECT *\n",
    "FROM\n",
    "(SELECT * FROM (\n",
    "SELECT telefono,\n",
    "max(mobile) mobile,\n",
    "max(customerNoIfOffline) customerNoIfOffline,\n",
    "SUM(IF(EXTRACT(DAYOFWEEK FROM createdat) = 1,1,0)) compras_domingo,\n",
    "SUM(IF(EXTRACT(DAYOFWEEK FROM createdat) = 2,1,0)) compras_lunes,\n",
    "SUM(IF(EXTRACT(DAYOFWEEK FROM createdat) = 3,1,0)) compras_martes,\n",
    "SUM(IF(EXTRACT(DAYOFWEEK FROM createdat) = 4,1,0)) compras_miercoles,\n",
    "SUM(IF(EXTRACT(DAYOFWEEK FROM createdat) = 5,1,0)) compras_jueves,\n",
    "SUM(IF(EXTRACT(DAYOFWEEK FROM createdat) = 6,1,0)) compras_viernes,\n",
    "SUM(IF(EXTRACT(DAYOFWEEK FROM createdat) = 7,1,0)) compras_sabado,\n",
    "SUM(IF(EXTRACT(MONTH FROM createdat) IN (12,1,2),1,0)) compras_verano,\n",
    "SUM(IF(EXTRACT(MONTH FROM createdat) IN (3,4,5),1,0)) compras_otonio,\n",
    "SUM(IF(EXTRACT(MONTH FROM createdat) IN (6,7,8),1,0)) compras_invierno,\n",
    "SUM(IF(EXTRACT(MONTH FROM createdat) IN (9,10,11),1,0)) compras_primavera,\n",
    "TRIM(STRING_AGG(DISTINCT(IF(orden_pedidos_clientes=1,sector,'')),'')) comuna, \n",
    "COUNT(DISTINCT(address)) distintas_direcciones,\n",
    "IF(SUM(IF(address LIKE '%depto%' OR address LIKE '%dpto%' OR address LIKE '%departamento%' OR address LIKE '%dto%' OR address LIKE '%dp%' OR address LIKE '%dppt%' OR address LIKE '%dpt%' OR address LIKE '%edificio%' , 1, 0 ))>0,1,0)  depto_casa,\n",
    "CASE\n",
    "WHEN min(rango_edad)= 'Menor 24' THEN 1\n",
    "WHEN min(rango_edad) = '25 - 34' THEN 2\n",
    "WHEN min(rango_edad) = '35 - 44' THEN 3\n",
    "WHEN min(rango_edad) = '45 - 54' THEN 4\n",
    "WHEN min(rango_edad) = '55 - 64' THEN 5\n",
    "WHEN min(rango_edad) = 'Mayor 65' THEN 6\n",
    "ELSE null\n",
    "END edad,\n",
    "max(genero) sexo,\n",
    "COUNT(*) cantidad_pedidos,\n",
    "SUM(totalAmount_GC) suma_pedido, \n",
    "SUM(discountAmount) suma_descuentos, --hay que sumar los cupones? cambiar esta variable? Tomar alguna variable de cupones o campañas?.. Hacer CASE con online/offline\n",
    "SUM(total_kilos_pedido) suma_kilos,\n",
    "SUM(p_CN02) suma_p_CN02,\n",
    "SUM(p_CN05)+SUM(p_CS05) suma_formato_05, \n",
    "SUM(p_CN11)+SUM(p_CS11) suma_formato_11, \n",
    "SUM(p_CN15)+SUM(p_CS15) suma_formato_15, \n",
    "SUM(p_CN45)+SUM(p_CS45) suma_formato_45, \n",
    "SUM(p_CGH15) suma_p_CGH15, \n",
    "SUM(p_CGH15_AL) suma_p_CGH15_AL, \n",
    "SUM(p_GGH15_AL) suma_p_GGH15_AL,\n",
    "ROUND(AVG(frecuencia),1) frec_compra_promedio_dias,\n",
    "IF(SUM(IF(tipo_pedido_bien = 'OFFLINE',1,0))>0,1,0) canal_offline,\n",
    "IF(SUM(IF(tipo_pedido_bien = 'ONLINE',1,0))>0,1,0) canal_online,\n",
    "IF(SUM(IF(tipo_pedido_bien NOT IN ('ONLINE','OFFLINE'),1,0))>0,1,0) otro_canal,\n",
    "IF(SUM(IF(paymentMethodDescription = 'Efectivo',1,0))>0,1,0) pago_efectivo,\n",
    "IF(SUM(IF(paymentMethodDescription = 'Tarjeta Debito/Credito',1,0))>0,1,0) pago_deb_cred,\n",
    "IF(SUM(IF(paymentMethodDescription = 'CuentaRUT/Ctas BancoEstado',1,0))>0,1,0) pago_bco_estado,\n",
    "IF(SUM(IF(paymentMethodDescription NOT IN ('CuentaRUT/Ctas BancoEstado','Tarjeta Debito/Credito','Efectivo'),1,0))>0,1,0) pago_otros\n",
    "FROM \n",
    "(SELECT *,\n",
    "DATE_DIFF(EXTRACT(DATE FROM createdat),LAG(EXTRACT(DATE FROM createdat)) OVER(PARTITION BY telefono ORDER BY EXTRACT(DATE FROM createdat)), DAY) frecuencia,\n",
    "row_number() OVER(PARTITION BY telefono ORDER BY createdat DESC) orden_pedidos_clientes,\n",
    "FROM\n",
    "(select *,\n",
    "CASE \n",
    "WHEN tipo_pedido_bien = 'OFFLINE' THEN customerNoIfOffline\n",
    "WHEN tipo_pedido_bien = 'ONLINE' THEN mobile\n",
    "ELSE null\n",
    "END AS telefono FROM `gasco.pedidos_gasconnect_todos_javier`)) \n",
    "GROUP BY telefono\n",
    ")\n",
    "WHERE mobile NOT IN ('949700781','987446282','946272711','959855281','937198925','982834413','940320641','933486794','968495840','982169639','976719792','976837510','946900115','952311351','966376800','938728120','920165243','937181726','936105770','999755969','956037246','971393407','964272568','996937599','958284792','944210340','972379273','931776921','981218376','930550981','938762481','949152671','989143697','969034005','986498191','920767324','944088616','975301909','920031082','994060817','965892521','953211031','956111329','995696387','966447842','996461327','997936889','933569506','933763374','936831280','985518824','973616165','959886604','965845250','973905440','956945238','965847403','954433370','957660478','948104628','966148636','967120855','947844436','969027661','959624405','977497046','950208898','957999693','989708139','986711311','982651844','952101141','962320325','933396681','948703345','972840071','981959179','975933937','945779141','945779142','937411889','978556265','951886537','932592671','964435798','987149470','920596293','987110816','979505347','935543084','996129257','954838361','959938922','950888056','936831280','954653898','965838210','965688521','959865600','956654007','942281547','965296076','972045344','968281852','942399781','992708206','952564809','976299318','997862235','950725383','930731503','944906499','931830297','935544746','966294876','989255095','994842012','966996365','978994717','978805734','965265205','942556019','935544746','967514899','950208898','968429653','940312619','987492429','963868077','994497785','965937013','948116910','986757302','945168176','973772861','954423660','987070184','950207273','968495840','976100365','991675804','973345579','946274646','995994648','982808794','931238125','985326354','930910440','981990488','955304961','966863150','978257363','935224124','984114608','952240390','932957108','938866484','947906680','990573502','950384188','962787325','995476328','932598533','935544746','920300776','977067735','941186610','945765224','997250292','941606975','950738096','920610205','998853511','993245736','920315263','964814674','982507874','956678416','920282559','978225968','945797466','995766773','987268438','991409989','968665725','920394138','935157070','978187654','964451113','930319282','940521015','936547434','971023190','966974624','936892997','989203774','935544746','957942982','987212671','963518304','954433370','940017083','973551964','961988683','977663841','972585152','946589725','964779674','984419260','997626843','941040263','937068078','972398188','940884370','944685598','937056940','949360373','988991779','949275692','946158245','968034996','961412983','986701122','958475876','998250053') \n",
    "OR customerNoifOffline NOT IN ('949700781','987446282','946272711','959855281','937198925','982834413','940320641','933486794','968495840','982169639','976719792','976837510','946900115','952311351','966376800','938728120','920165243','937181726','936105770','999755969','956037246','971393407','964272568','996937599','958284792','944210340','972379273','931776921','981218376','930550981','938762481','949152671','989143697','969034005','986498191','920767324','944088616','975301909','920031082','994060817','965892521','953211031','956111329','995696387','966447842','996461327','997936889','933569506','933763374','936831280','985518824','973616165','959886604','965845250','973905440','956945238','965847403','954433370','957660478','948104628','966148636','967120855','947844436','969027661','959624405','977497046','950208898','957999693','989708139','986711311','982651844','952101141','962320325','933396681','948703345','972840071','981959179','975933937','945779141','945779142','937411889','978556265','951886537','932592671','964435798','987149470','920596293','987110816','979505347','935543084','996129257','954838361','959938922','950888056','936831280','954653898','965838210','965688521','959865600','956654007','942281547','965296076','972045344','968281852','942399781','992708206','952564809','976299318','997862235','950725383','930731503','944906499','931830297','935544746','966294876','989255095','994842012','966996365','978994717','978805734','965265205','942556019','935544746','967514899','950208898','968429653','940312619','987492429','963868077','994497785','965937013','948116910','986757302','945168176','973772861','954423660','987070184','950207273','968495840','976100365','991675804','973345579','946274646','995994648','982808794','931238125','985326354','930910440','981990488','955304961','966863150','978257363','935224124','984114608','952240390','932957108','938866484','947906680','990573502','950384188','962787325','995476328','932598533','935544746','920300776','977067735','941186610','945765224','997250292','941606975','950738096','920610205','998853511','993245736','920315263','964814674','982507874','956678416','920282559','978225968','945797466','995766773','987268438','991409989','968665725','920394138','935157070','978187654','964451113','930319282','940521015','936547434','971023190','966974624','936892997','989203774','935544746','957942982','987212671','963518304','954433370','940017083','973551964','961988683','977663841','972585152','946589725','964779674','984419260','997626843','941040263','937068078','972398188','940884370','944685598','937056940','949360373','988991779','949275692','946158245','968034996','961412983','986701122','958475876','998250053')\n",
    ")'''\n",
    "\n",
    "df = pd.read_gbq(query=query, project_id=PID, dialect=\"standard\", use_bqstorage_api=True) "
   ]
  },
  {
   "cell_type": "code",
   "execution_count": 4,
   "metadata": {
    "ExecuteTime": {
     "end_time": "2021-02-18T16:06:41.417020Z",
     "start_time": "2021-02-18T16:06:41.383929Z"
    }
   },
   "outputs": [
    {
     "data": {
      "text/html": [
       "<div>\n",
       "<style scoped>\n",
       "    .dataframe tbody tr th:only-of-type {\n",
       "        vertical-align: middle;\n",
       "    }\n",
       "\n",
       "    .dataframe tbody tr th {\n",
       "        vertical-align: top;\n",
       "    }\n",
       "\n",
       "    .dataframe thead th {\n",
       "        text-align: right;\n",
       "    }\n",
       "</style>\n",
       "<table border=\"1\" class=\"dataframe\">\n",
       "  <thead>\n",
       "    <tr style=\"text-align: right;\">\n",
       "      <th></th>\n",
       "      <th>telefono</th>\n",
       "      <th>mobile</th>\n",
       "      <th>customerNoIfOffline</th>\n",
       "      <th>compras_domingo</th>\n",
       "      <th>compras_lunes</th>\n",
       "      <th>compras_martes</th>\n",
       "      <th>compras_miercoles</th>\n",
       "      <th>compras_jueves</th>\n",
       "      <th>compras_viernes</th>\n",
       "      <th>compras_sabado</th>\n",
       "      <th>...</th>\n",
       "      <th>suma_p_CGH15_AL</th>\n",
       "      <th>suma_p_GGH15_AL</th>\n",
       "      <th>frec_compra_promedio_dias</th>\n",
       "      <th>canal_offline</th>\n",
       "      <th>canal_online</th>\n",
       "      <th>otro_canal</th>\n",
       "      <th>pago_efectivo</th>\n",
       "      <th>pago_deb_cred</th>\n",
       "      <th>pago_bco_estado</th>\n",
       "      <th>pago_otros</th>\n",
       "    </tr>\n",
       "  </thead>\n",
       "  <tbody>\n",
       "    <tr>\n",
       "      <th>0</th>\n",
       "      <td>+56-9-000063643272</td>\n",
       "      <td>0000000000</td>\n",
       "      <td>+56-9-000063643272</td>\n",
       "      <td>0</td>\n",
       "      <td>1</td>\n",
       "      <td>0</td>\n",
       "      <td>0</td>\n",
       "      <td>0</td>\n",
       "      <td>0</td>\n",
       "      <td>0</td>\n",
       "      <td>...</td>\n",
       "      <td>0.0</td>\n",
       "      <td>0.0</td>\n",
       "      <td>NaN</td>\n",
       "      <td>1</td>\n",
       "      <td>0</td>\n",
       "      <td>0</td>\n",
       "      <td>1</td>\n",
       "      <td>0</td>\n",
       "      <td>0</td>\n",
       "      <td>0</td>\n",
       "    </tr>\n",
       "    <tr>\n",
       "      <th>1</th>\n",
       "      <td>10059328</td>\n",
       "      <td>569000087914890</td>\n",
       "      <td>10059328</td>\n",
       "      <td>1</td>\n",
       "      <td>0</td>\n",
       "      <td>0</td>\n",
       "      <td>0</td>\n",
       "      <td>0</td>\n",
       "      <td>1</td>\n",
       "      <td>1</td>\n",
       "      <td>...</td>\n",
       "      <td>0.0</td>\n",
       "      <td>0.0</td>\n",
       "      <td>101.0</td>\n",
       "      <td>1</td>\n",
       "      <td>0</td>\n",
       "      <td>0</td>\n",
       "      <td>1</td>\n",
       "      <td>0</td>\n",
       "      <td>0</td>\n",
       "      <td>0</td>\n",
       "    </tr>\n",
       "    <tr>\n",
       "      <th>2</th>\n",
       "      <td>225279038</td>\n",
       "      <td>225279038</td>\n",
       "      <td>225279038</td>\n",
       "      <td>0</td>\n",
       "      <td>2</td>\n",
       "      <td>0</td>\n",
       "      <td>1</td>\n",
       "      <td>0</td>\n",
       "      <td>0</td>\n",
       "      <td>0</td>\n",
       "      <td>...</td>\n",
       "      <td>0.0</td>\n",
       "      <td>0.0</td>\n",
       "      <td>79.5</td>\n",
       "      <td>1</td>\n",
       "      <td>0</td>\n",
       "      <td>0</td>\n",
       "      <td>1</td>\n",
       "      <td>0</td>\n",
       "      <td>0</td>\n",
       "      <td>0</td>\n",
       "    </tr>\n",
       "    <tr>\n",
       "      <th>3</th>\n",
       "      <td>225313432</td>\n",
       "      <td>0000000000</td>\n",
       "      <td>225313432</td>\n",
       "      <td>0</td>\n",
       "      <td>0</td>\n",
       "      <td>0</td>\n",
       "      <td>0</td>\n",
       "      <td>0</td>\n",
       "      <td>1</td>\n",
       "      <td>0</td>\n",
       "      <td>...</td>\n",
       "      <td>0.0</td>\n",
       "      <td>0.0</td>\n",
       "      <td>NaN</td>\n",
       "      <td>1</td>\n",
       "      <td>0</td>\n",
       "      <td>0</td>\n",
       "      <td>1</td>\n",
       "      <td>0</td>\n",
       "      <td>0</td>\n",
       "      <td>0</td>\n",
       "    </tr>\n",
       "    <tr>\n",
       "      <th>4</th>\n",
       "      <td>225321546</td>\n",
       "      <td>0000000000</td>\n",
       "      <td>225321546</td>\n",
       "      <td>0</td>\n",
       "      <td>2</td>\n",
       "      <td>3</td>\n",
       "      <td>2</td>\n",
       "      <td>2</td>\n",
       "      <td>2</td>\n",
       "      <td>3</td>\n",
       "      <td>...</td>\n",
       "      <td>0.0</td>\n",
       "      <td>0.0</td>\n",
       "      <td>43.3</td>\n",
       "      <td>1</td>\n",
       "      <td>0</td>\n",
       "      <td>0</td>\n",
       "      <td>1</td>\n",
       "      <td>0</td>\n",
       "      <td>0</td>\n",
       "      <td>0</td>\n",
       "    </tr>\n",
       "  </tbody>\n",
       "</table>\n",
       "<p>5 rows × 39 columns</p>\n",
       "</div>"
      ],
      "text/plain": [
       "             telefono           mobile customerNoIfOffline  compras_domingo  \\\n",
       "0  +56-9-000063643272       0000000000  +56-9-000063643272                0   \n",
       "1            10059328  569000087914890            10059328                1   \n",
       "2           225279038        225279038           225279038                0   \n",
       "3           225313432       0000000000           225313432                0   \n",
       "4           225321546       0000000000           225321546                0   \n",
       "\n",
       "   compras_lunes  compras_martes  compras_miercoles  compras_jueves  \\\n",
       "0              1               0                  0               0   \n",
       "1              0               0                  0               0   \n",
       "2              2               0                  1               0   \n",
       "3              0               0                  0               0   \n",
       "4              2               3                  2               2   \n",
       "\n",
       "   compras_viernes  compras_sabado  ...  suma_p_CGH15_AL  suma_p_GGH15_AL  \\\n",
       "0                0               0  ...              0.0              0.0   \n",
       "1                1               1  ...              0.0              0.0   \n",
       "2                0               0  ...              0.0              0.0   \n",
       "3                1               0  ...              0.0              0.0   \n",
       "4                2               3  ...              0.0              0.0   \n",
       "\n",
       "   frec_compra_promedio_dias  canal_offline canal_online  otro_canal  \\\n",
       "0                        NaN              1            0           0   \n",
       "1                      101.0              1            0           0   \n",
       "2                       79.5              1            0           0   \n",
       "3                        NaN              1            0           0   \n",
       "4                       43.3              1            0           0   \n",
       "\n",
       "   pago_efectivo  pago_deb_cred pago_bco_estado  pago_otros  \n",
       "0              1              0               0           0  \n",
       "1              1              0               0           0  \n",
       "2              1              0               0           0  \n",
       "3              1              0               0           0  \n",
       "4              1              0               0           0  \n",
       "\n",
       "[5 rows x 39 columns]"
      ]
     },
     "execution_count": 4,
     "metadata": {},
     "output_type": "execute_result"
    }
   ],
   "source": [
    "df.head()"
   ]
  },
  {
   "cell_type": "code",
   "execution_count": 5,
   "metadata": {
    "ExecuteTime": {
     "end_time": "2021-02-18T16:06:55.474281Z",
     "start_time": "2021-02-18T16:06:55.467315Z"
    }
   },
   "outputs": [],
   "source": [
    "numeric = ['compras_domingo',\n",
    " 'compras_lunes',\n",
    " 'compras_martes',\n",
    " 'compras_miercoles',\n",
    " 'compras_jueves',\n",
    " 'compras_viernes',\n",
    " 'compras_sabado',\n",
    " 'compras_verano',\n",
    " 'compras_otonio',\n",
    " 'compras_invierno',\n",
    " 'compras_primavera',\n",
    " 'cantidad_pedidos',\n",
    " 'edad',\n",
    " 'suma_pedido',\n",
    " 'suma_descuentos',\n",
    " 'suma_kilos',\n",
    " 'suma_p_CN02',\n",
    " 'suma_formato_05',\n",
    " 'suma_formato_11',\n",
    " 'suma_formato_15',\n",
    " 'suma_formato_45',\n",
    " 'suma_p_CGH15',\n",
    " 'suma_p_CGH15_AL',\n",
    " 'suma_p_GGH15_AL',\n",
    " 'frec_compra_promedio_dias']\n",
    "\n",
    "categorical = ['comuna',\n",
    " 'depto_casa',\n",
    " 'sexo',\n",
    " 'canal_offline',\n",
    " 'canal_online',\n",
    " 'otro_canal',\n",
    " 'pago_efectivo',\n",
    " 'pago_deb_cred',\n",
    " 'pago_bco_estado',\n",
    " 'pago_otros']\n",
    "\n",
    "#No considerar\n",
    "otras = ['telefono',\n",
    " 'mobile',\n",
    " 'customerNoIfOffline',\n",
    " 'distintas_direcciones']"
   ]
  },
  {
   "cell_type": "code",
   "execution_count": 6,
   "metadata": {
    "ExecuteTime": {
     "end_time": "2021-02-18T16:07:00.735223Z",
     "start_time": "2021-02-18T16:07:00.685711Z"
    }
   },
   "outputs": [],
   "source": [
    "import h2o\n",
    "from h2o.automl import H2OAutoML"
   ]
  },
  {
   "cell_type": "code",
   "execution_count": 7,
   "metadata": {
    "ExecuteTime": {
     "end_time": "2021-02-18T16:07:01.255855Z",
     "start_time": "2021-02-18T16:07:01.192478Z"
    }
   },
   "outputs": [
    {
     "name": "stdout",
     "output_type": "stream",
     "text": [
      "Checking whether there is an H2O instance running at http://localhost:54321 . connected.\n",
      "Warning: Your H2O cluster version is too old (1 year, 3 months and 20 days)! Please download and install the latest version from http://h2o.ai/download/\n"
     ]
    },
    {
     "data": {
      "text/html": [
       "<div style=\"overflow:auto\"><table style=\"width:50%\"><tr><td>H2O cluster uptime:</td>\n",
       "<td>3 hours 7 mins</td></tr>\n",
       "<tr><td>H2O cluster timezone:</td>\n",
       "<td>Etc/UTC</td></tr>\n",
       "<tr><td>H2O data parsing timezone:</td>\n",
       "<td>UTC</td></tr>\n",
       "<tr><td>H2O cluster version:</td>\n",
       "<td>3.26.0.9</td></tr>\n",
       "<tr><td>H2O cluster version age:</td>\n",
       "<td>1 year, 3 months and 20 days !!!</td></tr>\n",
       "<tr><td>H2O cluster name:</td>\n",
       "<td>H2O_from_python_ubuntu_jabhe4</td></tr>\n",
       "<tr><td>H2O cluster total nodes:</td>\n",
       "<td>1</td></tr>\n",
       "<tr><td>H2O cluster free memory:</td>\n",
       "<td>13.76 Gb</td></tr>\n",
       "<tr><td>H2O cluster total cores:</td>\n",
       "<td>8</td></tr>\n",
       "<tr><td>H2O cluster allowed cores:</td>\n",
       "<td>8</td></tr>\n",
       "<tr><td>H2O cluster status:</td>\n",
       "<td>locked, healthy</td></tr>\n",
       "<tr><td>H2O connection url:</td>\n",
       "<td>http://localhost:54321</td></tr>\n",
       "<tr><td>H2O connection proxy:</td>\n",
       "<td>{'http': None, 'https': None}</td></tr>\n",
       "<tr><td>H2O internal security:</td>\n",
       "<td>False</td></tr>\n",
       "<tr><td>H2O API Extensions:</td>\n",
       "<td>Amazon S3, XGBoost, Algos, AutoML, Core V3, TargetEncoder, Core V4</td></tr>\n",
       "<tr><td>Python version:</td>\n",
       "<td>3.6.7 final</td></tr></table></div>"
      ],
      "text/plain": [
       "--------------------------  ------------------------------------------------------------------\n",
       "H2O cluster uptime:         3 hours 7 mins\n",
       "H2O cluster timezone:       Etc/UTC\n",
       "H2O data parsing timezone:  UTC\n",
       "H2O cluster version:        3.26.0.9\n",
       "H2O cluster version age:    1 year, 3 months and 20 days !!!\n",
       "H2O cluster name:           H2O_from_python_ubuntu_jabhe4\n",
       "H2O cluster total nodes:    1\n",
       "H2O cluster free memory:    13.76 Gb\n",
       "H2O cluster total cores:    8\n",
       "H2O cluster allowed cores:  8\n",
       "H2O cluster status:         locked, healthy\n",
       "H2O connection url:         http://localhost:54321\n",
       "H2O connection proxy:       {'http': None, 'https': None}\n",
       "H2O internal security:      False\n",
       "H2O API Extensions:         Amazon S3, XGBoost, Algos, AutoML, Core V3, TargetEncoder, Core V4\n",
       "Python version:             3.6.7 final\n",
       "--------------------------  ------------------------------------------------------------------"
      ]
     },
     "metadata": {},
     "output_type": "display_data"
    }
   ],
   "source": [
    "features = numeric + categorical\n",
    "H2O_server = h2o.init(port=54321, min_mem_size='15g')\n",
    "h2o.remove_all()"
   ]
  },
  {
   "cell_type": "code",
   "execution_count": 8,
   "metadata": {
    "ExecuteTime": {
     "end_time": "2021-02-18T16:07:48.611673Z",
     "start_time": "2021-02-18T16:07:48.608213Z"
    }
   },
   "outputs": [],
   "source": [
    "nombre_modelo_calefont = '/home/ubuntu/spike/Emi/modelo_uso_gas/202102/GBM_grid_1_AutoML_20210217_145227_model_23'\n",
    "\n",
    "#Anterior: XGBoost_grid_1_AutoML_20200909_163641_model_6"
   ]
  },
  {
   "cell_type": "code",
   "execution_count": 9,
   "metadata": {
    "ExecuteTime": {
     "end_time": "2021-02-18T16:07:49.702415Z",
     "start_time": "2021-02-18T16:07:49.698476Z"
    }
   },
   "outputs": [],
   "source": [
    "column_types = {key: 'enum' for key in categorical}\n",
    "column_types.update({key: 'numeric' for key in numeric})"
   ]
  },
  {
   "cell_type": "code",
   "execution_count": 10,
   "metadata": {
    "ExecuteTime": {
     "end_time": "2021-02-18T16:08:22.247695Z",
     "start_time": "2021-02-18T16:07:51.525052Z"
    }
   },
   "outputs": [
    {
     "name": "stdout",
     "output_type": "stream",
     "text": [
      "Parse progress: |█████████████████████████████████████████████████████████| 100%\n"
     ]
    }
   ],
   "source": [
    "df_h2o_test_calefont = h2o.H2OFrame(df, destination_frame=\"df_para_pred\",\n",
    "                          column_types=column_types)"
   ]
  },
  {
   "cell_type": "code",
   "execution_count": 11,
   "metadata": {
    "ExecuteTime": {
     "end_time": "2021-02-18T16:16:20.824609Z",
     "start_time": "2021-02-18T16:08:22.249882Z"
    },
    "scrolled": true
   },
   "outputs": [
    {
     "name": "stdout",
     "output_type": "stream",
     "text": [
      "gbm prediction progress: |████████████████████████████████████████████████| 100%\n"
     ]
    },
    {
     "name": "stderr",
     "output_type": "stream",
     "text": [
      "/home/ubuntu/miniconda3/envs/spike_basicoV5/lib/python3.6/site-packages/h2o/job.py:70: UserWarning: Test/Validation dataset column 'comuna' has levels not trained on: [RM   REGIÓN METROPOLITANA, XII  REGIÓN DE MAGALLANES Y LA ANTÁRTICA CHILENA]\n",
      "  warnings.warn(w)\n"
     ]
    }
   ],
   "source": [
    "#Load model, predecir y merge\n",
    "modelo_calefont = h2o.load_model(nombre_modelo_calefont)\n",
    "preds_calefont = modelo_calefont.predict(df_h2o_test_calefont)\n",
    "preds_y_datos = pd.concat([df_h2o_test_calefont.as_data_frame(), preds_calefont.as_data_frame()], axis=1)"
   ]
  },
  {
   "cell_type": "code",
   "execution_count": 12,
   "metadata": {
    "ExecuteTime": {
     "end_time": "2021-02-18T16:16:20.831563Z",
     "start_time": "2021-02-18T16:16:20.828064Z"
    }
   },
   "outputs": [],
   "source": [
    "nombre_modelo_cocina = '/home/ubuntu/spike/Emi/modelo_uso_gas/202102/XGBoost_grid_1_AutoML_20210217_181338_model_6'\n",
    "\n",
    "#Anterior: XGBoost_grid_1_AutoML_20200909_135120_model_7"
   ]
  },
  {
   "cell_type": "code",
   "execution_count": 13,
   "metadata": {
    "ExecuteTime": {
     "end_time": "2021-02-18T16:16:46.136732Z",
     "start_time": "2021-02-18T16:16:20.834278Z"
    }
   },
   "outputs": [
    {
     "name": "stdout",
     "output_type": "stream",
     "text": [
      "Parse progress: |█████████████████████████████████████████████████████████| 100%\n"
     ]
    }
   ],
   "source": [
    "df_h2o_test_cocina = h2o.H2OFrame(df, destination_frame=\"df_para_pred_cocina\",\n",
    "                          column_types=column_types)"
   ]
  },
  {
   "cell_type": "code",
   "execution_count": 14,
   "metadata": {
    "ExecuteTime": {
     "end_time": "2021-02-18T16:16:51.639943Z",
     "start_time": "2021-02-18T16:16:46.139139Z"
    }
   },
   "outputs": [
    {
     "name": "stdout",
     "output_type": "stream",
     "text": [
      "xgboost prediction progress: |████████████████████████████████████████████| 100%\n"
     ]
    }
   ],
   "source": [
    "#Load model, predecir y merge\n",
    "modelo_cocina = h2o.load_model(nombre_modelo_cocina)\n",
    "preds_cocina = modelo_cocina.predict(df_h2o_test_cocina)\n",
    "preds_y_datos_2 = pd.concat([preds_y_datos, preds_cocina.as_data_frame()], axis=1)"
   ]
  },
  {
   "cell_type": "code",
   "execution_count": 15,
   "metadata": {
    "ExecuteTime": {
     "end_time": "2021-02-18T16:17:07.866884Z",
     "start_time": "2021-02-18T16:17:07.863316Z"
    }
   },
   "outputs": [],
   "source": [
    "nombre_modelo_estufa = '/home/ubuntu/spike/Emi/modelo_uso_gas/202102/XGBoost_grid_1_AutoML_20210217_195245_model_6'\n",
    "\n",
    "#/home/ubuntu/spike/Emi/modelo_uso_gas/XGBoost_grid_1_AutoML_20200909_163519_model_1"
   ]
  },
  {
   "cell_type": "code",
   "execution_count": 16,
   "metadata": {
    "ExecuteTime": {
     "end_time": "2021-02-18T16:17:33.233508Z",
     "start_time": "2021-02-18T16:17:08.806242Z"
    }
   },
   "outputs": [
    {
     "name": "stdout",
     "output_type": "stream",
     "text": [
      "Parse progress: |█████████████████████████████████████████████████████████| 100%\n"
     ]
    }
   ],
   "source": [
    "df_h2o_test_estufa = h2o.H2OFrame(df, destination_frame=\"df_para_pred_estufa\",\n",
    "                          column_types=column_types)"
   ]
  },
  {
   "cell_type": "code",
   "execution_count": 17,
   "metadata": {
    "ExecuteTime": {
     "end_time": "2021-02-18T16:17:38.607654Z",
     "start_time": "2021-02-18T16:17:33.235777Z"
    }
   },
   "outputs": [
    {
     "name": "stdout",
     "output_type": "stream",
     "text": [
      "xgboost prediction progress: |████████████████████████████████████████████| 100%\n"
     ]
    }
   ],
   "source": [
    "#Load model, predecir y merge\n",
    "modelo_estufa = h2o.load_model(nombre_modelo_estufa)\n",
    "preds_estufa = modelo_estufa.predict(df_h2o_test_estufa)\n",
    "preds_y_datos_3 = pd.concat([preds_y_datos_2, preds_estufa.as_data_frame()], axis=1)"
   ]
  },
  {
   "cell_type": "code",
   "execution_count": 18,
   "metadata": {
    "ExecuteTime": {
     "end_time": "2021-02-18T16:17:38.614140Z",
     "start_time": "2021-02-18T16:17:38.610664Z"
    }
   },
   "outputs": [],
   "source": [
    "nombre_modelo_parrilla = '/home/ubuntu/spike/Emi/modelo_uso_gas/202102/XGBoost_grid_1_AutoML_20210218_125943_model_7'\n",
    "\n",
    "#Anterior: XGBoost_grid_1_AutoML_20200909_134948_model_10"
   ]
  },
  {
   "cell_type": "code",
   "execution_count": 19,
   "metadata": {
    "ExecuteTime": {
     "end_time": "2021-02-18T16:18:03.652466Z",
     "start_time": "2021-02-18T16:17:38.616619Z"
    }
   },
   "outputs": [
    {
     "name": "stdout",
     "output_type": "stream",
     "text": [
      "Parse progress: |█████████████████████████████████████████████████████████| 100%\n"
     ]
    }
   ],
   "source": [
    "df_h2o_test_parrilla = h2o.H2OFrame(df, destination_frame=\"df_para_pred_parrilla\",\n",
    "                          column_types=column_types)"
   ]
  },
  {
   "cell_type": "code",
   "execution_count": 20,
   "metadata": {
    "ExecuteTime": {
     "end_time": "2021-02-18T16:18:10.124169Z",
     "start_time": "2021-02-18T16:18:03.654926Z"
    }
   },
   "outputs": [
    {
     "name": "stdout",
     "output_type": "stream",
     "text": [
      "xgboost prediction progress: |████████████████████████████████████████████| 100%\n"
     ]
    }
   ],
   "source": [
    "#Load model, predecir y merge\n",
    "modelo_parrilla = h2o.load_model(nombre_modelo_parrilla)\n",
    "preds_parrilla = modelo_parrilla.predict(df_h2o_test_parrilla)\n",
    "preds_y_datos_4 = pd.concat([preds_y_datos_3, preds_parrilla.as_data_frame()], axis=1)"
   ]
  },
  {
   "cell_type": "code",
   "execution_count": 21,
   "metadata": {
    "ExecuteTime": {
     "end_time": "2021-02-18T16:18:10.133113Z",
     "start_time": "2021-02-18T16:18:10.126606Z"
    }
   },
   "outputs": [],
   "source": [
    "preds_y_datos_4.columns.values[39] = \"predict_calefont\"\n",
    "preds_y_datos_4.columns.values[40] = \"p0_calefont\"\n",
    "preds_y_datos_4.columns.values[41] = \"p1_calefont\"\n",
    "preds_y_datos_4.columns.values[42] = \"predict_cocina\"\n",
    "preds_y_datos_4.columns.values[43] = \"p0_cocina\"\n",
    "preds_y_datos_4.columns.values[44] = \"p1_cocina\"\n",
    "\n",
    "preds_y_datos_4.columns.values[45] = \"predict_estufa\"\n",
    "preds_y_datos_4.columns.values[46] = \"p0_estufa\"\n",
    "preds_y_datos_4.columns.values[47] = \"p1_estufa\"\n",
    "\n",
    "preds_y_datos_4.columns.values[48] = \"predict_parrilla\"\n",
    "preds_y_datos_4.columns.values[49] = \"p0_parrilla\"\n",
    "preds_y_datos_4.columns.values[50] = \"p1_parrilla\""
   ]
  },
  {
   "cell_type": "code",
   "execution_count": 22,
   "metadata": {
    "ExecuteTime": {
     "end_time": "2021-02-18T16:18:10.145585Z",
     "start_time": "2021-02-18T16:18:10.135539Z"
    }
   },
   "outputs": [
    {
     "data": {
      "text/plain": [
       "Index(['telefono', 'mobile', 'customerNoIfOffline', 'compras_domingo',\n",
       "       'compras_lunes', 'compras_martes', 'compras_miercoles',\n",
       "       'compras_jueves', 'compras_viernes', 'compras_sabado', 'compras_verano',\n",
       "       'compras_otonio', 'compras_invierno', 'compras_primavera', 'comuna',\n",
       "       'distintas_direcciones', 'depto_casa', 'edad', 'sexo',\n",
       "       'cantidad_pedidos', 'suma_pedido', 'suma_descuentos', 'suma_kilos',\n",
       "       'suma_p_CN02', 'suma_formato_05', 'suma_formato_11', 'suma_formato_15',\n",
       "       'suma_formato_45', 'suma_p_CGH15', 'suma_p_CGH15_AL', 'suma_p_GGH15_AL',\n",
       "       'frec_compra_promedio_dias', 'canal_offline', 'canal_online',\n",
       "       'otro_canal', 'pago_efectivo', 'pago_deb_cred', 'pago_bco_estado',\n",
       "       'pago_otros', 'predict_calefont', 'p0_calefont', 'p1_calefont',\n",
       "       'predict_cocina', 'p0_cocina', 'p1_cocina', 'predict_estufa',\n",
       "       'p0_estufa', 'p1_estufa', 'predict_parrilla', 'p0_parrilla',\n",
       "       'p1_parrilla'],\n",
       "      dtype='object')"
      ]
     },
     "execution_count": 22,
     "metadata": {},
     "output_type": "execute_result"
    }
   ],
   "source": [
    "preds_y_datos_4.columns"
   ]
  },
  {
   "cell_type": "code",
   "execution_count": 23,
   "metadata": {
    "ExecuteTime": {
     "end_time": "2021-02-18T16:18:11.027392Z",
     "start_time": "2021-02-18T16:18:10.148152Z"
    }
   },
   "outputs": [
    {
     "data": {
      "text/html": [
       "<div>\n",
       "<style scoped>\n",
       "    .dataframe tbody tr th:only-of-type {\n",
       "        vertical-align: middle;\n",
       "    }\n",
       "\n",
       "    .dataframe tbody tr th {\n",
       "        vertical-align: top;\n",
       "    }\n",
       "\n",
       "    .dataframe thead th {\n",
       "        text-align: right;\n",
       "    }\n",
       "</style>\n",
       "<table border=\"1\" class=\"dataframe\">\n",
       "  <thead>\n",
       "    <tr style=\"text-align: right;\">\n",
       "      <th></th>\n",
       "      <th>telefono</th>\n",
       "      <th>mobile</th>\n",
       "      <th>customerNoIfOffline</th>\n",
       "      <th>compras_domingo</th>\n",
       "      <th>compras_lunes</th>\n",
       "      <th>compras_martes</th>\n",
       "      <th>compras_miercoles</th>\n",
       "      <th>compras_jueves</th>\n",
       "      <th>compras_viernes</th>\n",
       "      <th>compras_sabado</th>\n",
       "      <th>...</th>\n",
       "      <th>p1_calefont</th>\n",
       "      <th>predict_cocina</th>\n",
       "      <th>p0_cocina</th>\n",
       "      <th>p1_cocina</th>\n",
       "      <th>predict_estufa</th>\n",
       "      <th>p0_estufa</th>\n",
       "      <th>p1_estufa</th>\n",
       "      <th>predict_parrilla</th>\n",
       "      <th>p0_parrilla</th>\n",
       "      <th>p1_parrilla</th>\n",
       "    </tr>\n",
       "  </thead>\n",
       "  <tbody>\n",
       "  </tbody>\n",
       "</table>\n",
       "<p>0 rows × 51 columns</p>\n",
       "</div>"
      ],
      "text/plain": [
       "Empty DataFrame\n",
       "Columns: [telefono, mobile, customerNoIfOffline, compras_domingo, compras_lunes, compras_martes, compras_miercoles, compras_jueves, compras_viernes, compras_sabado, compras_verano, compras_otonio, compras_invierno, compras_primavera, comuna, distintas_direcciones, depto_casa, edad, sexo, cantidad_pedidos, suma_pedido, suma_descuentos, suma_kilos, suma_p_CN02, suma_formato_05, suma_formato_11, suma_formato_15, suma_formato_45, suma_p_CGH15, suma_p_CGH15_AL, suma_p_GGH15_AL, frec_compra_promedio_dias, canal_offline, canal_online, otro_canal, pago_efectivo, pago_deb_cred, pago_bco_estado, pago_otros, predict_calefont, p0_calefont, p1_calefont, predict_cocina, p0_cocina, p1_cocina, predict_estufa, p0_estufa, p1_estufa, predict_parrilla, p0_parrilla, p1_parrilla]\n",
       "Index: []\n",
       "\n",
       "[0 rows x 51 columns]"
      ]
     },
     "execution_count": 23,
     "metadata": {},
     "output_type": "execute_result"
    }
   ],
   "source": [
    "preds_y_datos_4[preds_y_datos_4.telefono == 988176019]"
   ]
  },
  {
   "cell_type": "code",
   "execution_count": 24,
   "metadata": {
    "ExecuteTime": {
     "end_time": "2021-02-18T16:18:11.084242Z",
     "start_time": "2021-02-18T16:18:11.029611Z"
    }
   },
   "outputs": [
    {
     "data": {
      "text/html": [
       "<div>\n",
       "<style scoped>\n",
       "    .dataframe tbody tr th:only-of-type {\n",
       "        vertical-align: middle;\n",
       "    }\n",
       "\n",
       "    .dataframe tbody tr th {\n",
       "        vertical-align: top;\n",
       "    }\n",
       "\n",
       "    .dataframe thead th {\n",
       "        text-align: right;\n",
       "    }\n",
       "</style>\n",
       "<table border=\"1\" class=\"dataframe\">\n",
       "  <thead>\n",
       "    <tr style=\"text-align: right;\">\n",
       "      <th></th>\n",
       "      <th>telefono</th>\n",
       "      <th>predict_calefont</th>\n",
       "      <th>p0_calefont</th>\n",
       "      <th>p1_calefont</th>\n",
       "      <th>predict_cocina</th>\n",
       "      <th>p0_cocina</th>\n",
       "      <th>p1_cocina</th>\n",
       "      <th>predict_estufa</th>\n",
       "      <th>p0_estufa</th>\n",
       "      <th>p1_estufa</th>\n",
       "      <th>predict_parrilla</th>\n",
       "      <th>p0_parrilla</th>\n",
       "      <th>p1_parrilla</th>\n",
       "    </tr>\n",
       "  </thead>\n",
       "  <tbody>\n",
       "    <tr>\n",
       "      <th>0</th>\n",
       "      <td>NaN</td>\n",
       "      <td>1</td>\n",
       "      <td>0.484691</td>\n",
       "      <td>0.515309</td>\n",
       "      <td>1</td>\n",
       "      <td>0.326811</td>\n",
       "      <td>0.673189</td>\n",
       "      <td>0</td>\n",
       "      <td>0.941826</td>\n",
       "      <td>0.058174</td>\n",
       "      <td>0</td>\n",
       "      <td>0.985598</td>\n",
       "      <td>0.014402</td>\n",
       "    </tr>\n",
       "    <tr>\n",
       "      <th>1</th>\n",
       "      <td>10059328.0</td>\n",
       "      <td>1</td>\n",
       "      <td>0.433675</td>\n",
       "      <td>0.566325</td>\n",
       "      <td>1</td>\n",
       "      <td>0.252914</td>\n",
       "      <td>0.747086</td>\n",
       "      <td>1</td>\n",
       "      <td>0.713319</td>\n",
       "      <td>0.286681</td>\n",
       "      <td>0</td>\n",
       "      <td>0.981694</td>\n",
       "      <td>0.018306</td>\n",
       "    </tr>\n",
       "    <tr>\n",
       "      <th>2</th>\n",
       "      <td>225279038.0</td>\n",
       "      <td>1</td>\n",
       "      <td>0.314526</td>\n",
       "      <td>0.685474</td>\n",
       "      <td>1</td>\n",
       "      <td>0.141103</td>\n",
       "      <td>0.858897</td>\n",
       "      <td>0</td>\n",
       "      <td>0.865759</td>\n",
       "      <td>0.134241</td>\n",
       "      <td>0</td>\n",
       "      <td>0.986503</td>\n",
       "      <td>0.013497</td>\n",
       "    </tr>\n",
       "    <tr>\n",
       "      <th>3</th>\n",
       "      <td>225313432.0</td>\n",
       "      <td>1</td>\n",
       "      <td>0.309341</td>\n",
       "      <td>0.690659</td>\n",
       "      <td>1</td>\n",
       "      <td>0.144271</td>\n",
       "      <td>0.855729</td>\n",
       "      <td>0</td>\n",
       "      <td>0.869643</td>\n",
       "      <td>0.130357</td>\n",
       "      <td>0</td>\n",
       "      <td>0.973305</td>\n",
       "      <td>0.026695</td>\n",
       "    </tr>\n",
       "    <tr>\n",
       "      <th>4</th>\n",
       "      <td>225321546.0</td>\n",
       "      <td>1</td>\n",
       "      <td>0.374956</td>\n",
       "      <td>0.625044</td>\n",
       "      <td>1</td>\n",
       "      <td>0.187221</td>\n",
       "      <td>0.812779</td>\n",
       "      <td>0</td>\n",
       "      <td>0.873359</td>\n",
       "      <td>0.126641</td>\n",
       "      <td>0</td>\n",
       "      <td>0.992164</td>\n",
       "      <td>0.007836</td>\n",
       "    </tr>\n",
       "    <tr>\n",
       "      <th>...</th>\n",
       "      <td>...</td>\n",
       "      <td>...</td>\n",
       "      <td>...</td>\n",
       "      <td>...</td>\n",
       "      <td>...</td>\n",
       "      <td>...</td>\n",
       "      <td>...</td>\n",
       "      <td>...</td>\n",
       "      <td>...</td>\n",
       "      <td>...</td>\n",
       "      <td>...</td>\n",
       "      <td>...</td>\n",
       "      <td>...</td>\n",
       "    </tr>\n",
       "    <tr>\n",
       "      <th>1026998</th>\n",
       "      <td>942683801.0</td>\n",
       "      <td>0</td>\n",
       "      <td>0.573008</td>\n",
       "      <td>0.426992</td>\n",
       "      <td>0</td>\n",
       "      <td>0.901908</td>\n",
       "      <td>0.098092</td>\n",
       "      <td>0</td>\n",
       "      <td>0.774933</td>\n",
       "      <td>0.225067</td>\n",
       "      <td>0</td>\n",
       "      <td>0.992503</td>\n",
       "      <td>0.007497</td>\n",
       "    </tr>\n",
       "    <tr>\n",
       "      <th>1026999</th>\n",
       "      <td>967784894.0</td>\n",
       "      <td>0</td>\n",
       "      <td>0.496080</td>\n",
       "      <td>0.503920</td>\n",
       "      <td>1</td>\n",
       "      <td>0.378385</td>\n",
       "      <td>0.621615</td>\n",
       "      <td>1</td>\n",
       "      <td>0.681305</td>\n",
       "      <td>0.318695</td>\n",
       "      <td>0</td>\n",
       "      <td>0.986867</td>\n",
       "      <td>0.013133</td>\n",
       "    </tr>\n",
       "    <tr>\n",
       "      <th>1027000</th>\n",
       "      <td>224954482.0</td>\n",
       "      <td>1</td>\n",
       "      <td>0.301132</td>\n",
       "      <td>0.698868</td>\n",
       "      <td>1</td>\n",
       "      <td>0.224356</td>\n",
       "      <td>0.775644</td>\n",
       "      <td>0</td>\n",
       "      <td>0.831212</td>\n",
       "      <td>0.168788</td>\n",
       "      <td>0</td>\n",
       "      <td>0.981662</td>\n",
       "      <td>0.018338</td>\n",
       "    </tr>\n",
       "    <tr>\n",
       "      <th>1027001</th>\n",
       "      <td>987115161.0</td>\n",
       "      <td>1</td>\n",
       "      <td>0.386904</td>\n",
       "      <td>0.613096</td>\n",
       "      <td>1</td>\n",
       "      <td>0.347195</td>\n",
       "      <td>0.652805</td>\n",
       "      <td>1</td>\n",
       "      <td>0.723296</td>\n",
       "      <td>0.276704</td>\n",
       "      <td>0</td>\n",
       "      <td>0.989100</td>\n",
       "      <td>0.010900</td>\n",
       "    </tr>\n",
       "    <tr>\n",
       "      <th>1027002</th>\n",
       "      <td>997593594.0</td>\n",
       "      <td>1</td>\n",
       "      <td>0.367714</td>\n",
       "      <td>0.632286</td>\n",
       "      <td>1</td>\n",
       "      <td>0.240627</td>\n",
       "      <td>0.759373</td>\n",
       "      <td>0</td>\n",
       "      <td>0.856168</td>\n",
       "      <td>0.143832</td>\n",
       "      <td>0</td>\n",
       "      <td>0.967850</td>\n",
       "      <td>0.032150</td>\n",
       "    </tr>\n",
       "  </tbody>\n",
       "</table>\n",
       "<p>1027003 rows × 13 columns</p>\n",
       "</div>"
      ],
      "text/plain": [
       "            telefono  predict_calefont  p0_calefont  p1_calefont  \\\n",
       "0                NaN                 1     0.484691     0.515309   \n",
       "1         10059328.0                 1     0.433675     0.566325   \n",
       "2        225279038.0                 1     0.314526     0.685474   \n",
       "3        225313432.0                 1     0.309341     0.690659   \n",
       "4        225321546.0                 1     0.374956     0.625044   \n",
       "...              ...               ...          ...          ...   \n",
       "1026998  942683801.0                 0     0.573008     0.426992   \n",
       "1026999  967784894.0                 0     0.496080     0.503920   \n",
       "1027000  224954482.0                 1     0.301132     0.698868   \n",
       "1027001  987115161.0                 1     0.386904     0.613096   \n",
       "1027002  997593594.0                 1     0.367714     0.632286   \n",
       "\n",
       "         predict_cocina  p0_cocina  p1_cocina  predict_estufa  p0_estufa  \\\n",
       "0                     1   0.326811   0.673189               0   0.941826   \n",
       "1                     1   0.252914   0.747086               1   0.713319   \n",
       "2                     1   0.141103   0.858897               0   0.865759   \n",
       "3                     1   0.144271   0.855729               0   0.869643   \n",
       "4                     1   0.187221   0.812779               0   0.873359   \n",
       "...                 ...        ...        ...             ...        ...   \n",
       "1026998               0   0.901908   0.098092               0   0.774933   \n",
       "1026999               1   0.378385   0.621615               1   0.681305   \n",
       "1027000               1   0.224356   0.775644               0   0.831212   \n",
       "1027001               1   0.347195   0.652805               1   0.723296   \n",
       "1027002               1   0.240627   0.759373               0   0.856168   \n",
       "\n",
       "         p1_estufa  predict_parrilla  p0_parrilla  p1_parrilla  \n",
       "0         0.058174                 0     0.985598     0.014402  \n",
       "1         0.286681                 0     0.981694     0.018306  \n",
       "2         0.134241                 0     0.986503     0.013497  \n",
       "3         0.130357                 0     0.973305     0.026695  \n",
       "4         0.126641                 0     0.992164     0.007836  \n",
       "...            ...               ...          ...          ...  \n",
       "1026998   0.225067                 0     0.992503     0.007497  \n",
       "1026999   0.318695                 0     0.986867     0.013133  \n",
       "1027000   0.168788                 0     0.981662     0.018338  \n",
       "1027001   0.276704                 0     0.989100     0.010900  \n",
       "1027002   0.143832                 0     0.967850     0.032150  \n",
       "\n",
       "[1027003 rows x 13 columns]"
      ]
     },
     "execution_count": 24,
     "metadata": {},
     "output_type": "execute_result"
    }
   ],
   "source": [
    "preds_y_datos_4[[\"telefono\",\"predict_calefont\",\"p0_calefont\",\"p1_calefont\",\"predict_cocina\",\"p0_cocina\",\"p1_cocina\",\"predict_estufa\",\"p0_estufa\",\"p1_estufa\",\"predict_parrilla\",\"p0_parrilla\",\"p1_parrilla\"]]\n"
   ]
  },
  {
   "cell_type": "code",
   "execution_count": 25,
   "metadata": {
    "ExecuteTime": {
     "end_time": "2021-02-18T16:43:00.834670Z",
     "start_time": "2021-02-18T16:42:04.180834Z"
    }
   },
   "outputs": [
    {
     "name": "stderr",
     "output_type": "stream",
     "text": [
      "1it [00:55, 55.96s/it]\n"
     ]
    }
   ],
   "source": [
    "preds_y_datos_4[[\"telefono\",\"predict_calefont\",\"p0_calefont\",\"p1_calefont\",\"predict_cocina\",\"p0_cocina\",\"p1_cocina\",\"predict_estufa\",\"p0_estufa\",\"p1_estufa\",\"predict_parrilla\",\"p0_parrilla\",\"p1_parrilla\"]].to_gbq(\"gasco_modelos.20210218_prediccion_modelo_uso_gas\", project_id=PID, if_exists=\"replace\")\n",
    "\n",
    "\n"
   ]
  },
  {
   "cell_type": "code",
   "execution_count": null,
   "metadata": {},
   "outputs": [],
   "source": []
  }
 ],
 "metadata": {
  "kernelspec": {
   "display_name": "Python [conda env:spike_basicoV5]",
   "language": "python",
   "name": "conda-env-spike_basicoV5-py"
  },
  "language_info": {
   "codemirror_mode": {
    "name": "ipython",
    "version": 3
   },
   "file_extension": ".py",
   "mimetype": "text/x-python",
   "name": "python",
   "nbconvert_exporter": "python",
   "pygments_lexer": "ipython3",
   "version": "3.6.7"
  }
 },
 "nbformat": 4,
 "nbformat_minor": 2
}
