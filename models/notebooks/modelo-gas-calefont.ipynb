{
 "cells": [
  {
   "cell_type": "code",
   "execution_count": 1,
   "metadata": {
    "ExecuteTime": {
     "end_time": "2021-02-17T14:36:42.874682Z",
     "start_time": "2021-02-17T14:36:21.643083Z"
    }
   },
   "outputs": [],
   "source": [
    "%matplotlib inline\n",
    "import matplotlib.pyplot as plt\n",
    "import seaborn as sns\n",
    "import pandas as pd\n",
    "import numpy as np\n",
    "import feather\n",
    "\n",
    "PID = 'gasco-analytics'"
   ]
  },
  {
   "cell_type": "code",
   "execution_count": 2,
   "metadata": {
    "ExecuteTime": {
     "end_time": "2021-02-17T14:51:46.868896Z",
     "start_time": "2021-02-17T14:51:35.904135Z"
    }
   },
   "outputs": [],
   "source": [
    "query = '''WITH encuestas AS\n",
    "(\n",
    "(SELECT *EXCEPT(ID_Pedido) FROM `gasco-analytics.encuestas.encuestas_segmentacion`) \n",
    "UNION ALL\n",
    "(SELECT \n",
    "A__o, \n",
    "Mes,\n",
    "ID_PEDIDO ID_Gasconnect,\n",
    "ID_SAT, \n",
    "Segmento Segmento_,\n",
    "Comuna,\n",
    "Estufa,\n",
    "Cocina,\n",
    "Calefont,\n",
    "Parrilla,\n",
    "Edad,\n",
    "Sexo,\n",
    "GSE,\n",
    "Telefono_Contacto\n",
    "FROM encuestas.202102_encuestas_uso))\n",
    "\n",
    "\n",
    "SELECT *EXCEPT(estufa,cocina,calefont,parrilla),\n",
    "CASE\n",
    "WHEN estufa = 1 AND cocina = 0 AND calefont = 0 AND parrilla = 0 THEN 0\n",
    "WHEN estufa = 0 AND cocina = 1 AND calefont = 0 AND parrilla = 0 THEN 0\n",
    "WHEN estufa = 0 AND cocina = 0 AND calefont = 1 AND parrilla = 0 THEN 1\n",
    "WHEN estufa = 0 AND cocina = 0 AND calefont = 0 AND parrilla = 1 THEN 0\n",
    "WHEN estufa = 1 AND cocina = 1 AND calefont = 1 AND parrilla = 1 THEN 1\n",
    "WHEN estufa = 1 AND cocina = 1 AND calefont = 1 AND parrilla = 0 THEN 1\n",
    "WHEN estufa = 0 AND cocina = 0 AND calefont = 1 AND parrilla = 1 THEN 1\n",
    "WHEN estufa = 0 AND cocina = 1 AND calefont = 0 AND parrilla = 1 THEN 0\n",
    "WHEN estufa = 1 AND cocina = 0 AND calefont = 0 AND parrilla = 1 THEN 0\n",
    "WHEN estufa = 0 AND cocina = 1 AND calefont = 1 AND parrilla = 0 THEN 1\n",
    "WHEN estufa = 1 AND cocina = 0 AND calefont = 1 AND parrilla = 0 THEN 1\n",
    "WHEN estufa = 1 AND cocina = 1 AND calefont = 0 AND parrilla = 0 THEN 0\n",
    "ELSE 0\n",
    "END uso_gas\n",
    "FROM\n",
    "(SELECT * FROM (\n",
    "WITH con_bookingId AS\n",
    "(SELECT ids.*, pedidos.*\n",
    "FROM\n",
    "(SELECT ID_Gasconnect  encuestados, Segmento_,\n",
    "SUM(IF(estufa is not null, 1, 0)) estufa,\n",
    "SUM(IF(cocina is not null, 1, 0)) cocina,\n",
    "SUM(IF(calefont is not null, 1, 0)) calefont,\n",
    "SUM(IF(parrilla is not null, 1, 0)) parrilla,\n",
    "max(edad) edad,\n",
    "max(sexo) sexo\n",
    "FROM encuestas\n",
    "GROUP BY ID_Gasconnect, Segmento_) ids\n",
    "LEFT JOIN `gasco.Pedidos_Gasconnect_Bruta`  pedidos\n",
    "ON CAST(ids.encuestados AS FLOAT64) = pedidos.bookingId\n",
    "WHERE bookingId is not null)\n",
    ",\n",
    "con_satId AS\n",
    "(SELECT ids.*, pedidos.*\n",
    "FROM\n",
    "(SELECT ID_SAT encuestados, Segmento_,\n",
    "SUM(IF(estufa is not null, 1, 0)) estufa,\n",
    "SUM(IF(cocina is not null, 1, 0)) cocina,\n",
    "SUM(IF(calefont is not null, 1, 0)) calefont,\n",
    "SUM(IF(parrilla is not null, 1, 0)) parrilla,\n",
    "max(edad) edad,\n",
    "max(sexo) sexo\n",
    "FROM encuestas\n",
    "GROUP BY ID_SAT, Segmento_) ids\n",
    "LEFT JOIN `gasco.Pedidos_Gasconnect_Bruta`  pedidos\n",
    "ON CAST(ids.encuestados AS FLOAT64) = CAST(pedidos.satId AS FLOAT64)\n",
    "WHERE satId  is not null)\n",
    ",\n",
    "clientes AS\n",
    "(SELECT \n",
    "CASE \n",
    "WHEN tipo_pedido_bien = 'OFFLINE' THEN customerNoIfOffline\n",
    "WHEN tipo_pedido_bien = 'ONLINE' THEN mobile\n",
    "ELSE null\n",
    "END AS telefono, edad, sexo, estufa, cocina, calefont, parrilla\n",
    "--date_diff(extract(date from createdat),LAG(extract(date from createdat)) OVER(partition by mobile, customerNoIfOffline ORDER BY extract(date from createdat)), DAY) frec_compra\n",
    "FROM\n",
    "(SELECT *\n",
    "FROM con_bookingId\n",
    "UNION ALL\n",
    "(SELECT *\n",
    "FROM con_satId))\n",
    ")\n",
    "\n",
    "SELECT telefono,\n",
    "max(mobile) mobile,\n",
    "max(customerNoIfOffline) customerNoIfOffline,\n",
    "--EDAD\n",
    "--GSE\n",
    "--dia de la semana (por día)\n",
    "SUM(IF(EXTRACT(DAYOFWEEK FROM createdat) = 1,1,0)) compras_domingo,\n",
    "SUM(IF(EXTRACT(DAYOFWEEK FROM createdat) = 2,1,0)) compras_lunes,\n",
    "SUM(IF(EXTRACT(DAYOFWEEK FROM createdat) = 3,1,0)) compras_martes,\n",
    "SUM(IF(EXTRACT(DAYOFWEEK FROM createdat) = 4,1,0)) compras_miercoles,\n",
    "SUM(IF(EXTRACT(DAYOFWEEK FROM createdat) = 5,1,0)) compras_jueves,\n",
    "SUM(IF(EXTRACT(DAYOFWEEK FROM createdat) = 6,1,0)) compras_viernes,\n",
    "SUM(IF(EXTRACT(DAYOFWEEK FROM createdat) = 7,1,0)) compras_sabado,\n",
    "--mes de compra (por estación)\n",
    "SUM(IF(EXTRACT(MONTH FROM createdat) IN (12,1,2),1,0)) compras_verano,\n",
    "SUM(IF(EXTRACT(MONTH FROM createdat) IN (3,4,5),1,0)) compras_otonio,\n",
    "SUM(IF(EXTRACT(MONTH FROM createdat) IN (6,7,8),1,0)) compras_invierno,\n",
    "SUM(IF(EXTRACT(MONTH FROM createdat) IN (9,10,11),1,0)) compras_primavera,\n",
    "--frecuencia (hacer con lag)\n",
    "--ROUND(avg(frec_compra),2) frec_compra,\n",
    "TRIM(STRING_AGG(DISTINCT(IF(orden_pedidos_clientes=1,sector,'')),'')) comuna, \n",
    "COUNT(DISTINCT(address)) distintas_direcciones,\n",
    "--IF(SUM(IF(depto IS NOT NULL,1,0))>0,'depto','casa') depto_casa, -- si tiene varias direcciones y una es depto, va a ser un cliente \"depto\"\n",
    "IF(SUM(IF(address LIKE '%depto%' OR address LIKE '%dpto%' OR address LIKE '%departamento%' OR address LIKE '%dto%' OR address LIKE '%dp%' OR address LIKE '%dppt%' OR address LIKE '%dpt%' OR address LIKE '%edificio%' , 1, 0 ))>0,1,0)  depto_casa,\n",
    "CASE\n",
    "WHEN max(edad)<=24 THEN 1\n",
    "WHEN max(edad)>24 AND max(edad)<=34 THEN 2\n",
    "WHEN max(edad)>34 AND max(edad)<=44 THEN 3\n",
    "WHEN max(edad)>44 AND max(edad)<=54 THEN 4\n",
    "WHEN max(edad)>54 AND max(edad)<=64 THEN 5\n",
    "WHEN max(edad)>64 THEN 6\n",
    "ELSE null\n",
    "END edad,\n",
    "max(sexo) sexo,\n",
    "COUNT(*) cantidad_pedidos,\n",
    "SUM(totalAmount_GC) suma_pedido, \n",
    "SUM(discountAmount) suma_descuentos, --hay que sumar los cupones? cambiar esta variable? Tomar alguna variable de cupones o campañas?.. Hacer CASE con online/offline\n",
    "SUM(total_kilos_pedido) suma_kilos,\n",
    "SUM(p_CN02) suma_p_CN02,\n",
    "SUM(p_CN05)+SUM(p_CS05) suma_formato_05, \n",
    "SUM(p_CN11)+SUM(p_CS11) suma_formato_11, \n",
    "SUM(p_CN15)+SUM(p_CS15) suma_formato_15, \n",
    "SUM(p_CN45)+SUM(p_CS45) suma_formato_45, \n",
    "SUM(p_CGH15) suma_p_CGH15, \n",
    "SUM(p_CGH15_AL) suma_p_CGH15_AL, \n",
    "SUM(p_GGH15_AL) suma_p_GGH15_AL,\n",
    "ROUND(AVG(frecuencia),1) frec_compra_promedio_dias,\n",
    "IF(SUM(IF(tipo_pedido_bien = 'OFFLINE',1,0))>0,1,0) canal_offline,\n",
    "IF(SUM(IF(tipo_pedido_bien = 'ONLINE',1,0))>0,1,0) canal_online,\n",
    "IF(SUM(IF(tipo_pedido_bien NOT IN ('ONLINE','OFFLINE'),1,0))>0,1,0) otro_canal,\n",
    "IF(SUM(IF(paymentMethodDescription = 'Efectivo',1,0))>0,1,0) pago_efectivo,\n",
    "IF(SUM(IF(paymentMethodDescription = 'Tarjeta Debito/Credito',1,0))>0,1,0) pago_deb_cred,\n",
    "IF(SUM(IF(paymentMethodDescription = 'CuentaRUT/Ctas BancoEstado',1,0))>0,1,0) pago_bco_estado,\n",
    "IF(SUM(IF(paymentMethodDescription NOT IN ('CuentaRUT/Ctas BancoEstado','Tarjeta Debito/Credito','Efectivo'),1,0))>0,1,0) pago_otros,\n",
    "IF(SUM(estufa)>0,1,0) estufa,\n",
    "IF(SUM(cocina)>0,1,0) cocina,\n",
    "IF(SUM(calefont)>0,1,0) calefont,\n",
    "IF(SUM(parrilla)>0,1,0) parrilla\n",
    "FROM \n",
    "(SELECT clientes.*EXCEPT(telefono), pedidos_javier.*,\n",
    "DATE_DIFF(EXTRACT(DATE FROM createdat),LAG(EXTRACT(DATE FROM createdat)) OVER(PARTITION BY telefono ORDER BY EXTRACT(DATE FROM createdat)), DAY) frecuencia,\n",
    "row_number() OVER(PARTITION BY telefono ORDER BY createdat DESC) orden_pedidos_clientes,\n",
    "FROM\n",
    "(SELECT * FROM clientes) clientes\n",
    "LEFT JOIN (select *,\n",
    "CASE \n",
    "WHEN tipo_pedido_bien = 'OFFLINE' THEN customerNoIfOffline\n",
    "WHEN tipo_pedido_bien = 'ONLINE' THEN mobile\n",
    "ELSE null\n",
    "END AS telefono FROM `gasco.pedidos_gasconnect_todos_javier`) pedidos_javier\n",
    "USING(telefono)) \n",
    "GROUP BY telefono\n",
    ")\n",
    "WHERE mobile NOT IN ('949700781','987446282','946272711','959855281','937198925','982834413','940320641','933486794','968495840','982169639','976719792','976837510','946900115','952311351','966376800','938728120','920165243','937181726','936105770','999755969','956037246','971393407','964272568','996937599','958284792','944210340','972379273','931776921','981218376','930550981','938762481','949152671','989143697','969034005','986498191','920767324','944088616','975301909','920031082','994060817','965892521','953211031','956111329','995696387','966447842','996461327','997936889','933569506','933763374','936831280','985518824','973616165','959886604','965845250','973905440','956945238','965847403','954433370','957660478','948104628','966148636','967120855','947844436','969027661','959624405','977497046','950208898','957999693','989708139','986711311','982651844','952101141','962320325','933396681','948703345','972840071','981959179','975933937','945779141','945779142','937411889','978556265','951886537','932592671','964435798','987149470','920596293','987110816','979505347','935543084','996129257','954838361','959938922','950888056','936831280','954653898','965838210','965688521','959865600','956654007','942281547','965296076','972045344','968281852','942399781','992708206','952564809','976299318','997862235','950725383','930731503','944906499','931830297','935544746','966294876','989255095','994842012','966996365','978994717','978805734','965265205','942556019','935544746','967514899','950208898','968429653','940312619','987492429','963868077','994497785','965937013','948116910','986757302','945168176','973772861','954423660','987070184','950207273','968495840','976100365','991675804','973345579','946274646','995994648','982808794','931238125','985326354','930910440','981990488','955304961','966863150','978257363','935224124','984114608','952240390','932957108','938866484','947906680','990573502','950384188','962787325','995476328','932598533','935544746','920300776','977067735','941186610','945765224','997250292','941606975','950738096','920610205','998853511','993245736','920315263','964814674','982507874','956678416','920282559','978225968','945797466','995766773','987268438','991409989','968665725','920394138','935157070','978187654','964451113','930319282','940521015','936547434','971023190','966974624','936892997','989203774','935544746','957942982','987212671','963518304','954433370','940017083','973551964','961988683','977663841','972585152','946589725','964779674','984419260','997626843','941040263','937068078','972398188','940884370','944685598','937056940','949360373','988991779','949275692','946158245','968034996','961412983','986701122','958475876','998250053') \n",
    "OR customerNoifOffline NOT IN ('949700781','987446282','946272711','959855281','937198925','982834413','940320641','933486794','968495840','982169639','976719792','976837510','946900115','952311351','966376800','938728120','920165243','937181726','936105770','999755969','956037246','971393407','964272568','996937599','958284792','944210340','972379273','931776921','981218376','930550981','938762481','949152671','989143697','969034005','986498191','920767324','944088616','975301909','920031082','994060817','965892521','953211031','956111329','995696387','966447842','996461327','997936889','933569506','933763374','936831280','985518824','973616165','959886604','965845250','973905440','956945238','965847403','954433370','957660478','948104628','966148636','967120855','947844436','969027661','959624405','977497046','950208898','957999693','989708139','986711311','982651844','952101141','962320325','933396681','948703345','972840071','981959179','975933937','945779141','945779142','937411889','978556265','951886537','932592671','964435798','987149470','920596293','987110816','979505347','935543084','996129257','954838361','959938922','950888056','936831280','954653898','965838210','965688521','959865600','956654007','942281547','965296076','972045344','968281852','942399781','992708206','952564809','976299318','997862235','950725383','930731503','944906499','931830297','935544746','966294876','989255095','994842012','966996365','978994717','978805734','965265205','942556019','935544746','967514899','950208898','968429653','940312619','987492429','963868077','994497785','965937013','948116910','986757302','945168176','973772861','954423660','987070184','950207273','968495840','976100365','991675804','973345579','946274646','995994648','982808794','931238125','985326354','930910440','981990488','955304961','966863150','978257363','935224124','984114608','952240390','932957108','938866484','947906680','990573502','950384188','962787325','995476328','932598533','935544746','920300776','977067735','941186610','945765224','997250292','941606975','950738096','920610205','998853511','993245736','920315263','964814674','982507874','956678416','920282559','978225968','945797466','995766773','987268438','991409989','968665725','920394138','935157070','978187654','964451113','930319282','940521015','936547434','971023190','966974624','936892997','989203774','935544746','957942982','987212671','963518304','954433370','940017083','973551964','961988683','977663841','972585152','946589725','964779674','984419260','997626843','941040263','937068078','972398188','940884370','944685598','937056940','949360373','988991779','949275692','946158245','968034996','961412983','986701122','958475876','998250053')\n",
    ")'''\n",
    "\n",
    "df = pd.read_gbq(query=query, project_id=PID, dialect=\"standard\", use_bqstorage_api=True) "
   ]
  },
  {
   "cell_type": "code",
   "execution_count": 3,
   "metadata": {
    "ExecuteTime": {
     "end_time": "2021-02-17T14:51:46.935020Z",
     "start_time": "2021-02-17T14:51:46.871119Z"
    }
   },
   "outputs": [
    {
     "data": {
      "text/html": [
       "<div>\n",
       "<style scoped>\n",
       "    .dataframe tbody tr th:only-of-type {\n",
       "        vertical-align: middle;\n",
       "    }\n",
       "\n",
       "    .dataframe tbody tr th {\n",
       "        vertical-align: top;\n",
       "    }\n",
       "\n",
       "    .dataframe thead th {\n",
       "        text-align: right;\n",
       "    }\n",
       "</style>\n",
       "<table border=\"1\" class=\"dataframe\">\n",
       "  <thead>\n",
       "    <tr style=\"text-align: right;\">\n",
       "      <th></th>\n",
       "      <th>telefono</th>\n",
       "      <th>mobile</th>\n",
       "      <th>customerNoIfOffline</th>\n",
       "      <th>compras_domingo</th>\n",
       "      <th>compras_lunes</th>\n",
       "      <th>compras_martes</th>\n",
       "      <th>compras_miercoles</th>\n",
       "      <th>compras_jueves</th>\n",
       "      <th>compras_viernes</th>\n",
       "      <th>compras_sabado</th>\n",
       "      <th>...</th>\n",
       "      <th>suma_p_GGH15_AL</th>\n",
       "      <th>frec_compra_promedio_dias</th>\n",
       "      <th>canal_offline</th>\n",
       "      <th>canal_online</th>\n",
       "      <th>otro_canal</th>\n",
       "      <th>pago_efectivo</th>\n",
       "      <th>pago_deb_cred</th>\n",
       "      <th>pago_bco_estado</th>\n",
       "      <th>pago_otros</th>\n",
       "      <th>uso_gas</th>\n",
       "    </tr>\n",
       "  </thead>\n",
       "  <tbody>\n",
       "    <tr>\n",
       "      <th>0</th>\n",
       "      <td>12536246</td>\n",
       "      <td>0000000000</td>\n",
       "      <td>12536246</td>\n",
       "      <td>0</td>\n",
       "      <td>1</td>\n",
       "      <td>0</td>\n",
       "      <td>0</td>\n",
       "      <td>0</td>\n",
       "      <td>0</td>\n",
       "      <td>0</td>\n",
       "      <td>...</td>\n",
       "      <td>0</td>\n",
       "      <td>NaN</td>\n",
       "      <td>1</td>\n",
       "      <td>0</td>\n",
       "      <td>0</td>\n",
       "      <td>1</td>\n",
       "      <td>0</td>\n",
       "      <td>0</td>\n",
       "      <td>0</td>\n",
       "      <td>0</td>\n",
       "    </tr>\n",
       "    <tr>\n",
       "      <th>1</th>\n",
       "      <td>222923965</td>\n",
       "      <td>0000000000</td>\n",
       "      <td>222923965</td>\n",
       "      <td>0</td>\n",
       "      <td>2</td>\n",
       "      <td>4</td>\n",
       "      <td>1</td>\n",
       "      <td>6</td>\n",
       "      <td>2</td>\n",
       "      <td>0</td>\n",
       "      <td>...</td>\n",
       "      <td>0</td>\n",
       "      <td>84.1</td>\n",
       "      <td>1</td>\n",
       "      <td>0</td>\n",
       "      <td>0</td>\n",
       "      <td>1</td>\n",
       "      <td>1</td>\n",
       "      <td>0</td>\n",
       "      <td>0</td>\n",
       "      <td>0</td>\n",
       "    </tr>\n",
       "    <tr>\n",
       "      <th>2</th>\n",
       "      <td>223111432</td>\n",
       "      <td>223111432</td>\n",
       "      <td>223111432</td>\n",
       "      <td>0</td>\n",
       "      <td>0</td>\n",
       "      <td>0</td>\n",
       "      <td>3</td>\n",
       "      <td>1</td>\n",
       "      <td>2</td>\n",
       "      <td>1</td>\n",
       "      <td>...</td>\n",
       "      <td>0</td>\n",
       "      <td>81.8</td>\n",
       "      <td>1</td>\n",
       "      <td>0</td>\n",
       "      <td>0</td>\n",
       "      <td>1</td>\n",
       "      <td>1</td>\n",
       "      <td>0</td>\n",
       "      <td>0</td>\n",
       "      <td>1</td>\n",
       "    </tr>\n",
       "    <tr>\n",
       "      <th>3</th>\n",
       "      <td>322948095</td>\n",
       "      <td>0000000000</td>\n",
       "      <td>322948095</td>\n",
       "      <td>2</td>\n",
       "      <td>0</td>\n",
       "      <td>0</td>\n",
       "      <td>1</td>\n",
       "      <td>3</td>\n",
       "      <td>0</td>\n",
       "      <td>1</td>\n",
       "      <td>...</td>\n",
       "      <td>0</td>\n",
       "      <td>25.0</td>\n",
       "      <td>1</td>\n",
       "      <td>0</td>\n",
       "      <td>0</td>\n",
       "      <td>1</td>\n",
       "      <td>0</td>\n",
       "      <td>0</td>\n",
       "      <td>0</td>\n",
       "      <td>1</td>\n",
       "    </tr>\n",
       "    <tr>\n",
       "      <th>4</th>\n",
       "      <td>552378337</td>\n",
       "      <td>0000000000</td>\n",
       "      <td>552378337</td>\n",
       "      <td>0</td>\n",
       "      <td>1</td>\n",
       "      <td>2</td>\n",
       "      <td>2</td>\n",
       "      <td>4</td>\n",
       "      <td>1</td>\n",
       "      <td>5</td>\n",
       "      <td>...</td>\n",
       "      <td>0</td>\n",
       "      <td>76.9</td>\n",
       "      <td>1</td>\n",
       "      <td>0</td>\n",
       "      <td>0</td>\n",
       "      <td>1</td>\n",
       "      <td>0</td>\n",
       "      <td>0</td>\n",
       "      <td>0</td>\n",
       "      <td>0</td>\n",
       "    </tr>\n",
       "  </tbody>\n",
       "</table>\n",
       "<p>5 rows × 40 columns</p>\n",
       "</div>"
      ],
      "text/plain": [
       "    telefono      mobile customerNoIfOffline  compras_domingo  compras_lunes  \\\n",
       "0   12536246  0000000000            12536246                0              1   \n",
       "1  222923965  0000000000           222923965                0              2   \n",
       "2  223111432   223111432           223111432                0              0   \n",
       "3  322948095  0000000000           322948095                2              0   \n",
       "4  552378337  0000000000           552378337                0              1   \n",
       "\n",
       "   compras_martes  compras_miercoles  compras_jueves  compras_viernes  \\\n",
       "0               0                  0               0                0   \n",
       "1               4                  1               6                2   \n",
       "2               0                  3               1                2   \n",
       "3               0                  1               3                0   \n",
       "4               2                  2               4                1   \n",
       "\n",
       "   compras_sabado  ...  suma_p_GGH15_AL  frec_compra_promedio_dias  \\\n",
       "0               0  ...                0                        NaN   \n",
       "1               0  ...                0                       84.1   \n",
       "2               1  ...                0                       81.8   \n",
       "3               1  ...                0                       25.0   \n",
       "4               5  ...                0                       76.9   \n",
       "\n",
       "   canal_offline  canal_online otro_canal  pago_efectivo  pago_deb_cred  \\\n",
       "0              1             0          0              1              0   \n",
       "1              1             0          0              1              1   \n",
       "2              1             0          0              1              1   \n",
       "3              1             0          0              1              0   \n",
       "4              1             0          0              1              0   \n",
       "\n",
       "   pago_bco_estado pago_otros  uso_gas  \n",
       "0                0          0        0  \n",
       "1                0          0        0  \n",
       "2                0          0        1  \n",
       "3                0          0        1  \n",
       "4                0          0        0  \n",
       "\n",
       "[5 rows x 40 columns]"
      ]
     },
     "execution_count": 3,
     "metadata": {},
     "output_type": "execute_result"
    }
   ],
   "source": [
    "df.head()"
   ]
  },
  {
   "cell_type": "code",
   "execution_count": 4,
   "metadata": {
    "ExecuteTime": {
     "end_time": "2021-02-17T14:52:08.779911Z",
     "start_time": "2021-02-17T14:52:08.775120Z"
    }
   },
   "outputs": [],
   "source": [
    "numeric = ['compras_domingo',\n",
    " 'compras_lunes',\n",
    " 'compras_martes',\n",
    " 'compras_miercoles',\n",
    " 'compras_jueves',\n",
    " 'compras_viernes',\n",
    " 'compras_sabado',\n",
    " 'compras_verano',\n",
    " 'compras_otonio',\n",
    " 'compras_invierno',\n",
    " 'compras_primavera',\n",
    " 'cantidad_pedidos',\n",
    " 'edad',\n",
    " 'suma_pedido',\n",
    " 'suma_descuentos',\n",
    " 'suma_kilos',\n",
    " 'suma_p_CN02',\n",
    " 'suma_formato_05',\n",
    " 'suma_formato_11',\n",
    " 'suma_formato_15',\n",
    " 'suma_formato_45',\n",
    " 'suma_p_CGH15',\n",
    " 'suma_p_CGH15_AL',\n",
    " 'suma_p_GGH15_AL',\n",
    " 'frec_compra_promedio_dias']\n",
    "\n",
    "categorical = ['comuna',\n",
    " 'depto_casa',\n",
    " 'sexo',\n",
    " 'canal_offline',\n",
    " 'canal_online',\n",
    " 'otro_canal',\n",
    " 'pago_efectivo',\n",
    " 'pago_deb_cred',\n",
    " 'pago_bco_estado',\n",
    " 'pago_otros']\n",
    "\n",
    "#No considerar\n",
    "otras = ['telefono',\n",
    " 'mobile',\n",
    " 'customerNoIfOffline',\n",
    " 'distintas_direcciones']"
   ]
  },
  {
   "cell_type": "code",
   "execution_count": 5,
   "metadata": {
    "ExecuteTime": {
     "end_time": "2021-02-17T14:52:10.876002Z",
     "start_time": "2021-02-17T14:52:10.305915Z"
    }
   },
   "outputs": [],
   "source": [
    "import h2o\n",
    "from h2o.automl import H2OAutoML"
   ]
  },
  {
   "cell_type": "code",
   "execution_count": 6,
   "metadata": {
    "ExecuteTime": {
     "end_time": "2021-02-17T14:52:23.946323Z",
     "start_time": "2021-02-17T14:52:13.808051Z"
    }
   },
   "outputs": [
    {
     "name": "stdout",
     "output_type": "stream",
     "text": [
      "Checking whether there is an H2O instance running at http://localhost:54321 ..... not found.\n",
      "Attempting to start a local H2O server...\n",
      "  Java Version: openjdk version \"11.0.4\" 2019-07-16; OpenJDK Runtime Environment (build 11.0.4+11-post-Ubuntu-1ubuntu218.04.3); OpenJDK 64-Bit Server VM (build 11.0.4+11-post-Ubuntu-1ubuntu218.04.3, mixed mode, sharing)\n",
      "  Starting server from /home/ubuntu/miniconda3/envs/spike_basicoV5/lib/python3.6/site-packages/h2o/backend/bin/h2o.jar\n",
      "  Ice root: /tmp/tmppo4aspxu\n",
      "  JVM stdout: /tmp/tmppo4aspxu/h2o_ubuntu_started_from_python.out\n",
      "  JVM stderr: /tmp/tmppo4aspxu/h2o_ubuntu_started_from_python.err\n",
      "  Server is running at http://127.0.0.1:54321\n",
      "Connecting to H2O server at http://127.0.0.1:54321 ... successful.\n",
      "Warning: Your H2O cluster version is too old (1 year, 3 months and 18 days)! Please download and install the latest version from http://h2o.ai/download/\n"
     ]
    },
    {
     "data": {
      "text/html": [
       "<div style=\"overflow:auto\"><table style=\"width:50%\"><tr><td>H2O cluster uptime:</td>\n",
       "<td>03 secs</td></tr>\n",
       "<tr><td>H2O cluster timezone:</td>\n",
       "<td>Etc/UTC</td></tr>\n",
       "<tr><td>H2O data parsing timezone:</td>\n",
       "<td>UTC</td></tr>\n",
       "<tr><td>H2O cluster version:</td>\n",
       "<td>3.26.0.9</td></tr>\n",
       "<tr><td>H2O cluster version age:</td>\n",
       "<td>1 year, 3 months and 18 days !!!</td></tr>\n",
       "<tr><td>H2O cluster name:</td>\n",
       "<td>H2O_from_python_ubuntu_6cbzl7</td></tr>\n",
       "<tr><td>H2O cluster total nodes:</td>\n",
       "<td>1</td></tr>\n",
       "<tr><td>H2O cluster free memory:</td>\n",
       "<td>15 Gb</td></tr>\n",
       "<tr><td>H2O cluster total cores:</td>\n",
       "<td>8</td></tr>\n",
       "<tr><td>H2O cluster allowed cores:</td>\n",
       "<td>8</td></tr>\n",
       "<tr><td>H2O cluster status:</td>\n",
       "<td>accepting new members, healthy</td></tr>\n",
       "<tr><td>H2O connection url:</td>\n",
       "<td>http://127.0.0.1:54321</td></tr>\n",
       "<tr><td>H2O connection proxy:</td>\n",
       "<td>{'http': None, 'https': None}</td></tr>\n",
       "<tr><td>H2O internal security:</td>\n",
       "<td>False</td></tr>\n",
       "<tr><td>H2O API Extensions:</td>\n",
       "<td>Amazon S3, XGBoost, Algos, AutoML, Core V3, TargetEncoder, Core V4</td></tr>\n",
       "<tr><td>Python version:</td>\n",
       "<td>3.6.7 final</td></tr></table></div>"
      ],
      "text/plain": [
       "--------------------------  ------------------------------------------------------------------\n",
       "H2O cluster uptime:         03 secs\n",
       "H2O cluster timezone:       Etc/UTC\n",
       "H2O data parsing timezone:  UTC\n",
       "H2O cluster version:        3.26.0.9\n",
       "H2O cluster version age:    1 year, 3 months and 18 days !!!\n",
       "H2O cluster name:           H2O_from_python_ubuntu_6cbzl7\n",
       "H2O cluster total nodes:    1\n",
       "H2O cluster free memory:    15 Gb\n",
       "H2O cluster total cores:    8\n",
       "H2O cluster allowed cores:  8\n",
       "H2O cluster status:         accepting new members, healthy\n",
       "H2O connection url:         http://127.0.0.1:54321\n",
       "H2O connection proxy:       {'http': None, 'https': None}\n",
       "H2O internal security:      False\n",
       "H2O API Extensions:         Amazon S3, XGBoost, Algos, AutoML, Core V3, TargetEncoder, Core V4\n",
       "Python version:             3.6.7 final\n",
       "--------------------------  ------------------------------------------------------------------"
      ]
     },
     "metadata": {},
     "output_type": "display_data"
    }
   ],
   "source": [
    "features = numeric + categorical\n",
    "H2O_server = h2o.init(port=54321, min_mem_size='15g')\n",
    "h2o.remove_all()"
   ]
  },
  {
   "cell_type": "code",
   "execution_count": 7,
   "metadata": {
    "ExecuteTime": {
     "end_time": "2021-02-17T14:52:27.172600Z",
     "start_time": "2021-02-17T14:52:23.949573Z"
    }
   },
   "outputs": [
    {
     "name": "stdout",
     "output_type": "stream",
     "text": [
      "Checking whether there is an H2O instance running at http://localhost:54321 . connected.\n",
      "Warning: Your H2O cluster version is too old (1 year, 3 months and 18 days)! Please download and install the latest version from http://h2o.ai/download/\n"
     ]
    },
    {
     "data": {
      "text/html": [
       "<div style=\"overflow:auto\"><table style=\"width:50%\"><tr><td>H2O cluster uptime:</td>\n",
       "<td>03 secs</td></tr>\n",
       "<tr><td>H2O cluster timezone:</td>\n",
       "<td>Etc/UTC</td></tr>\n",
       "<tr><td>H2O data parsing timezone:</td>\n",
       "<td>UTC</td></tr>\n",
       "<tr><td>H2O cluster version:</td>\n",
       "<td>3.26.0.9</td></tr>\n",
       "<tr><td>H2O cluster version age:</td>\n",
       "<td>1 year, 3 months and 18 days !!!</td></tr>\n",
       "<tr><td>H2O cluster name:</td>\n",
       "<td>H2O_from_python_ubuntu_6cbzl7</td></tr>\n",
       "<tr><td>H2O cluster total nodes:</td>\n",
       "<td>1</td></tr>\n",
       "<tr><td>H2O cluster free memory:</td>\n",
       "<td>15 Gb</td></tr>\n",
       "<tr><td>H2O cluster total cores:</td>\n",
       "<td>8</td></tr>\n",
       "<tr><td>H2O cluster allowed cores:</td>\n",
       "<td>8</td></tr>\n",
       "<tr><td>H2O cluster status:</td>\n",
       "<td>locked, healthy</td></tr>\n",
       "<tr><td>H2O connection url:</td>\n",
       "<td>http://localhost:54321</td></tr>\n",
       "<tr><td>H2O connection proxy:</td>\n",
       "<td>{'http': None, 'https': None}</td></tr>\n",
       "<tr><td>H2O internal security:</td>\n",
       "<td>False</td></tr>\n",
       "<tr><td>H2O API Extensions:</td>\n",
       "<td>Amazon S3, XGBoost, Algos, AutoML, Core V3, TargetEncoder, Core V4</td></tr>\n",
       "<tr><td>Python version:</td>\n",
       "<td>3.6.7 final</td></tr></table></div>"
      ],
      "text/plain": [
       "--------------------------  ------------------------------------------------------------------\n",
       "H2O cluster uptime:         03 secs\n",
       "H2O cluster timezone:       Etc/UTC\n",
       "H2O data parsing timezone:  UTC\n",
       "H2O cluster version:        3.26.0.9\n",
       "H2O cluster version age:    1 year, 3 months and 18 days !!!\n",
       "H2O cluster name:           H2O_from_python_ubuntu_6cbzl7\n",
       "H2O cluster total nodes:    1\n",
       "H2O cluster free memory:    15 Gb\n",
       "H2O cluster total cores:    8\n",
       "H2O cluster allowed cores:  8\n",
       "H2O cluster status:         locked, healthy\n",
       "H2O connection url:         http://localhost:54321\n",
       "H2O connection proxy:       {'http': None, 'https': None}\n",
       "H2O internal security:      False\n",
       "H2O API Extensions:         Amazon S3, XGBoost, Algos, AutoML, Core V3, TargetEncoder, Core V4\n",
       "Python version:             3.6.7 final\n",
       "--------------------------  ------------------------------------------------------------------"
      ]
     },
     "metadata": {},
     "output_type": "display_data"
    },
    {
     "name": "stdout",
     "output_type": "stream",
     "text": [
      "Parse progress: |█████████████████████████████████████████████████████████| 100%\n"
     ]
    }
   ],
   "source": [
    "target = 'uso_gas'\n",
    "features = numeric + categorical\n",
    "H2O_server = h2o.init(port=54321, min_mem_size='15g')\n",
    "h2o.remove_all()\n",
    "\n",
    "df_h2o = h2o.H2OFrame(df)\n",
    "df_h2o['uso_gas'] = df_h2o['uso_gas'].asfactor()\n",
    "\n",
    "#Explícitamente transformar a categóricas\n",
    "for feature in categorical:\n",
    "    df_h2o[feature] = df_h2o[feature].asfactor()\n",
    "\n",
    "train, test = df_h2o.split_frame(ratios=[0.8], seed=7161)"
   ]
  },
  {
   "cell_type": "code",
   "execution_count": 8,
   "metadata": {
    "ExecuteTime": {
     "end_time": "2021-02-17T15:56:36.590670Z",
     "start_time": "2021-02-17T14:52:27.175453Z"
    }
   },
   "outputs": [
    {
     "name": "stdout",
     "output_type": "stream",
     "text": [
      "AutoML progress: |████████████████████████████████████████████████████████| 100%\n"
     ]
    },
    {
     "data": {
      "text/html": [
       "<table>\n",
       "<thead>\n",
       "<tr><th>model_id                                           </th><th style=\"text-align: right;\">     auc</th><th style=\"text-align: right;\">  logloss</th><th style=\"text-align: right;\">  mean_per_class_error</th><th style=\"text-align: right;\">    rmse</th><th style=\"text-align: right;\">     mse</th></tr>\n",
       "</thead>\n",
       "<tbody>\n",
       "<tr><td>StackedEnsemble_AllModels_AutoML_20210217_145227   </td><td style=\"text-align: right;\">0.71825 </td><td style=\"text-align: right;\"> 0.576883</td><td style=\"text-align: right;\">              0.399153</td><td style=\"text-align: right;\">0.443581</td><td style=\"text-align: right;\">0.196764</td></tr>\n",
       "<tr><td>StackedEnsemble_BestOfFamily_AutoML_20210217_145227</td><td style=\"text-align: right;\">0.715022</td><td style=\"text-align: right;\"> 0.579625</td><td style=\"text-align: right;\">              0.408603</td><td style=\"text-align: right;\">0.444656</td><td style=\"text-align: right;\">0.197719</td></tr>\n",
       "<tr><td>GBM_grid_1_AutoML_20210217_145227_model_23         </td><td style=\"text-align: right;\">0.713259</td><td style=\"text-align: right;\"> 0.605808</td><td style=\"text-align: right;\">              0.405899</td><td style=\"text-align: right;\">0.456284</td><td style=\"text-align: right;\">0.208195</td></tr>\n",
       "<tr><td>GBM_grid_1_AutoML_20210217_145227_model_10         </td><td style=\"text-align: right;\">0.711216</td><td style=\"text-align: right;\"> 0.616564</td><td style=\"text-align: right;\">              0.414592</td><td style=\"text-align: right;\">0.461648</td><td style=\"text-align: right;\">0.213119</td></tr>\n",
       "<tr><td>XGBoost_3_AutoML_20210217_145227                   </td><td style=\"text-align: right;\">0.711113</td><td style=\"text-align: right;\"> 0.582631</td><td style=\"text-align: right;\">              0.415146</td><td style=\"text-align: right;\">0.446131</td><td style=\"text-align: right;\">0.199033</td></tr>\n",
       "<tr><td>XGBoost_1_AutoML_20210217_145227                   </td><td style=\"text-align: right;\">0.711034</td><td style=\"text-align: right;\"> 0.582792</td><td style=\"text-align: right;\">              0.411584</td><td style=\"text-align: right;\">0.446181</td><td style=\"text-align: right;\">0.199078</td></tr>\n",
       "<tr><td>GBM_grid_1_AutoML_20210217_145227_model_2          </td><td style=\"text-align: right;\">0.710788</td><td style=\"text-align: right;\"> 0.597228</td><td style=\"text-align: right;\">              0.411563</td><td style=\"text-align: right;\">0.452116</td><td style=\"text-align: right;\">0.204409</td></tr>\n",
       "<tr><td>GBM_grid_1_AutoML_20210217_145227_model_28         </td><td style=\"text-align: right;\">0.710503</td><td style=\"text-align: right;\"> 0.631085</td><td style=\"text-align: right;\">              0.400833</td><td style=\"text-align: right;\">0.469014</td><td style=\"text-align: right;\">0.219974</td></tr>\n",
       "<tr><td>XGBoost_grid_1_AutoML_20210217_145227_model_5      </td><td style=\"text-align: right;\">0.710503</td><td style=\"text-align: right;\"> 0.582962</td><td style=\"text-align: right;\">              0.413173</td><td style=\"text-align: right;\">0.446159</td><td style=\"text-align: right;\">0.199057</td></tr>\n",
       "<tr><td>XGBoost_grid_1_AutoML_20210217_145227_model_1      </td><td style=\"text-align: right;\">0.710404</td><td style=\"text-align: right;\"> 0.582656</td><td style=\"text-align: right;\">              0.412304</td><td style=\"text-align: right;\">0.446115</td><td style=\"text-align: right;\">0.199019</td></tr>\n",
       "</tbody>\n",
       "</table>"
      ]
     },
     "metadata": {},
     "output_type": "display_data"
    },
    {
     "data": {
      "text/plain": []
     },
     "execution_count": 8,
     "metadata": {},
     "output_type": "execute_result"
    }
   ],
   "source": [
    "horas = 1.5\n",
    "aml = H2OAutoML(max_runtime_secs = int(60*60*horas), seed=1010102,\n",
    "                project_name=\"modelo_gasco_calefont\")\n",
    "\n",
    "aml.train(x=features, y=target,\n",
    "          training_frame=train,\n",
    "         validation_frame = test)\n",
    "\n",
    "lb = aml.leaderboard\n",
    "lb"
   ]
  },
  {
   "cell_type": "code",
   "execution_count": 9,
   "metadata": {
    "ExecuteTime": {
     "end_time": "2021-02-17T18:01:12.256773Z",
     "start_time": "2021-02-17T18:01:12.251531Z"
    }
   },
   "outputs": [],
   "source": [
    "data_path = '/home/ubuntu/spike/Emi/modelo_uso_gas/202102/'"
   ]
  },
  {
   "cell_type": "code",
   "execution_count": null,
   "metadata": {},
   "outputs": [],
   "source": [
    "XGBoost_grid_1_AutoML_20200909_163641_model_6"
   ]
  },
  {
   "cell_type": "code",
   "execution_count": 11,
   "metadata": {
    "ExecuteTime": {
     "end_time": "2021-02-17T18:01:56.483053Z",
     "start_time": "2021-02-17T18:01:56.400671Z"
    }
   },
   "outputs": [
    {
     "data": {
      "text/plain": [
       "'/home/ubuntu/GBM_grid_1_AutoML_20210217_145227_model_23'"
      ]
     },
     "execution_count": 11,
     "metadata": {},
     "output_type": "execute_result"
    }
   ],
   "source": [
    "stack_winner = h2o.get_model(\"GBM_grid_1_AutoML_20210217_145227_model_23\")\n",
    "h2o.save_model(model=stack_winner, force=True)"
   ]
  },
  {
   "cell_type": "code",
   "execution_count": 12,
   "metadata": {
    "ExecuteTime": {
     "end_time": "2021-02-17T18:03:30.445076Z",
     "start_time": "2021-02-17T18:03:29.937567Z"
    }
   },
   "outputs": [
    {
     "data": {
      "image/png": "[encoded data removed]",
      "text/plain": [
       "<Figure size 1008x720 with 1 Axes>"
      ]
     },
     "metadata": {
      "needs_background": "light"
     },
     "output_type": "display_data"
    }
   ],
   "source": [
    "stack_winner.varimp_plot(30)"
   ]
  },
  {
   "cell_type": "code",
   "execution_count": 13,
   "metadata": {
    "ExecuteTime": {
     "end_time": "2021-02-17T18:04:30.333123Z",
     "start_time": "2021-02-17T18:04:30.329953Z"
    }
   },
   "outputs": [],
   "source": [
    "nombre_modelo = 'GBM_grid_1_AutoML_20210217_145227_model_23'"
   ]
  },
  {
   "cell_type": "code",
   "execution_count": 19,
   "metadata": {
    "ExecuteTime": {
     "end_time": "2021-02-17T18:10:55.466991Z",
     "start_time": "2021-02-17T18:10:49.935856Z"
    }
   },
   "outputs": [],
   "source": [
    "query_test = \"\"\"\n",
    "\n",
    "SELECT *EXCEPT(estufa,cocina,calefont,parrilla),\n",
    "CASE\n",
    "WHEN estufa = 1 AND cocina = 0 AND calefont = 0 AND parrilla = 0 THEN 0\n",
    "WHEN estufa = 0 AND cocina = 1 AND calefont = 0 AND parrilla = 0 THEN 0\n",
    "WHEN estufa = 0 AND cocina = 0 AND calefont = 1 AND parrilla = 0 THEN 1\n",
    "WHEN estufa = 0 AND cocina = 0 AND calefont = 0 AND parrilla = 1 THEN 0\n",
    "WHEN estufa = 1 AND cocina = 1 AND calefont = 1 AND parrilla = 1 THEN 1\n",
    "WHEN estufa = 1 AND cocina = 1 AND calefont = 1 AND parrilla = 0 THEN 1\n",
    "WHEN estufa = 0 AND cocina = 0 AND calefont = 1 AND parrilla = 1 THEN 1\n",
    "WHEN estufa = 0 AND cocina = 1 AND calefont = 0 AND parrilla = 1 THEN 0\n",
    "WHEN estufa = 1 AND cocina = 0 AND calefont = 0 AND parrilla = 1 THEN 0\n",
    "WHEN estufa = 0 AND cocina = 1 AND calefont = 1 AND parrilla = 0 THEN 1\n",
    "WHEN estufa = 1 AND cocina = 0 AND calefont = 1 AND parrilla = 0 THEN 1\n",
    "WHEN estufa = 1 AND cocina = 1 AND calefont = 0 AND parrilla = 0 THEN 0\n",
    "ELSE 0\n",
    "END uso_gas\n",
    "FROM\n",
    "(SELECT * FROM (\n",
    "WITH \n",
    "Encuestas AS (\n",
    "SELECT ids.*, pedidos.* FROM (\n",
    "SELECT EMAIL,\n",
    "SUM(IF(estufa =1, 1, 0)) estufa,\n",
    "SUM(IF(cocina =1, 1, 0)) cocina,\n",
    "SUM(IF(calefont =1, 1, 0)) calefont,\n",
    "SUM(IF(parrilla =1, 1, 0)) parrilla,\n",
    "max(edad) edad,\n",
    "FROM `encuestas.Encuestas_USO_Agosto` \n",
    "GROUP BY EMAIL) ids\n",
    "LEFT JOIN `gasco.Pedidos_Gasconnect_Bruta`  pedidos\n",
    "ON ids.EMAIL = pedidos.email\n",
    "WHERE ids.email is not null)\n",
    "/*con_bookingId AS\n",
    "(SELECT ids.*, pedidos.*\n",
    "FROM\n",
    "(SELECT ID_Gasconnect  encuestados, Segmento_,\n",
    "SUM(IF(estufa is not null, 1, 0)) estufa,\n",
    "SUM(IF(cocina is not null, 1, 0)) cocina,\n",
    "SUM(IF(calefont is not null, 1, 0)) calefont,\n",
    "SUM(IF(parrilla is not null, 1, 0)) parrilla,\n",
    "max(edad) edad,\n",
    "max(sexo) sexo\n",
    "FROM `encuestas.encuestas_segmentacion`\n",
    "GROUP BY ID_Gasconnect, Segmento_) ids\n",
    "LEFT JOIN `gasco.Pedidos_Gasconnect_Bruta`  pedidos\n",
    "ON CAST(ids.encuestados AS FLOAT64) = pedidos.bookingId\n",
    "WHERE bookingId is not null)\n",
    ",\n",
    "con_satId AS\n",
    "(SELECT ids.*, pedidos.*\n",
    "FROM\n",
    "(SELECT ID_SAT encuestados, Segmento_,\n",
    "SUM(IF(estufa =1, 1, 0)) estufa,\n",
    "SUM(IF(cocina =1, 1, 0)) cocina,\n",
    "SUM(IF(calefont =1, 1, 0)) calefont,\n",
    "SUM(IF(parrilla =1, 1, 0)) parrilla,\n",
    "max(edad) edad,\n",
    "max(sexo) sexo\n",
    "FROM `encuestas.encuestas_segmentacion`\n",
    "GROUP BY ID_SAT, Segmento_) ids\n",
    "LEFT JOIN `gasco.Pedidos_Gasconnect_Bruta`  pedidos\n",
    "ON CAST(ids.encuestados AS FLOAT64) = CAST(pedidos.satId AS FLOAT64)\n",
    "WHERE satId  is not null)*/\n",
    ",\n",
    "clientes AS\n",
    "(SELECT \n",
    "CASE \n",
    "WHEN tipo_pedido_bien = 'OFFLINE' THEN customerNoIfOffline\n",
    "WHEN tipo_pedido_bien = 'ONLINE' THEN mobile\n",
    "ELSE null\n",
    "END AS telefono, edad, estufa, cocina, calefont, parrilla\n",
    "--date_diff(extract(date from createdat),LAG(extract(date from createdat)) OVER(partition by mobile, customerNoIfOffline ORDER BY extract(date from createdat)), DAY) frec_compra\n",
    "FROM\n",
    "(SELECT * FROM Encuestas\n",
    "/*SELECT *\n",
    "FROM con_bookingId\n",
    "UNION ALL\n",
    "(SELECT *\n",
    "FROM con_satId)*/)\n",
    ")\n",
    "SELECT telefono,\n",
    "max(mobile) mobile,\n",
    "max(customerNoIfOffline) customerNoIfOffline,\n",
    "--EDAD\n",
    "--GSE\n",
    "--dia de la semana (por día)\n",
    "SUM(IF(EXTRACT(DAYOFWEEK FROM createdat) = 1,1,0)) compras_domingo,\n",
    "SUM(IF(EXTRACT(DAYOFWEEK FROM createdat) = 2,1,0)) compras_lunes,\n",
    "SUM(IF(EXTRACT(DAYOFWEEK FROM createdat) = 3,1,0)) compras_martes,\n",
    "SUM(IF(EXTRACT(DAYOFWEEK FROM createdat) = 4,1,0)) compras_miercoles,\n",
    "SUM(IF(EXTRACT(DAYOFWEEK FROM createdat) = 5,1,0)) compras_jueves,\n",
    "SUM(IF(EXTRACT(DAYOFWEEK FROM createdat) = 6,1,0)) compras_viernes,\n",
    "SUM(IF(EXTRACT(DAYOFWEEK FROM createdat) = 7,1,0)) compras_sabado,\n",
    "--mes de compra (por estación)\n",
    "SUM(IF(EXTRACT(MONTH FROM createdat) IN (12,1,2),1,0)) compras_verano,\n",
    "SUM(IF(EXTRACT(MONTH FROM createdat) IN (3,4,5),1,0)) compras_otonio,\n",
    "SUM(IF(EXTRACT(MONTH FROM createdat) IN (6,7,8),1,0)) compras_invierno,\n",
    "SUM(IF(EXTRACT(MONTH FROM createdat) IN (9,10,11),1,0)) compras_primavera,\n",
    "--frecuencia (hacer con lag)\n",
    "--ROUND(avg(frec_compra),2) frec_compra,\n",
    "TRIM(STRING_AGG(DISTINCT(IF(orden_pedidos_clientes=1,sector,'')),'')) comuna, \n",
    "COUNT(DISTINCT(address)) distintas_direcciones,\n",
    "--IF(SUM(IF(depto IS NOT NULL,1,0))>0,'depto','casa') depto_casa, -- si tiene varias direcciones y una es depto, va a ser un cliente \"depto\"\n",
    "IF(SUM(IF(address LIKE '%depto%' OR address LIKE '%dpto%' OR address LIKE '%departamento%' OR address LIKE '%dto%' OR address LIKE '%dp%' OR address LIKE '%dppt%' OR address LIKE '%dpt%' OR address LIKE '%edificio%' , 1, 0 ))>0,1,0)  depto_casa,\n",
    "/*\n",
    "(address LIKE '%depto%' \n",
    "OR address LIKE '%dpto%' \n",
    "OR address LIKE '%departamento%' \n",
    "--OR address LIKE '%dto%'\n",
    "--OR address LIKE '%dp%'\n",
    "--OR address LIKE '%dppt%'\n",
    "--OR address LIKE '%dpt%'\n",
    "--OR address LIKE '%piso%'\n",
    "--OR address LIKE '%edificio%'\n",
    ")*/\n",
    "CASE\n",
    "WHEN max(edad)<=24 THEN 1\n",
    "WHEN max(edad)>24 AND max(edad)<=34 THEN 2\n",
    "WHEN max(edad)>34 AND max(edad)<=44 THEN 3\n",
    "WHEN max(edad)>44 AND max(edad)<=54 THEN 4\n",
    "WHEN max(edad)>54 AND max(edad)<=64 THEN 5\n",
    "WHEN max(edad)>64 THEN 6\n",
    "ELSE null\n",
    "END edad,\n",
    "max(genero) sexo,\n",
    "COUNT(*) cantidad_pedidos,\n",
    "SUM(totalAmount_GC) suma_pedido, \n",
    "SUM(discountAmount) suma_descuentos, --hay que sumar los cupones? cambiar esta variable? Tomar alguna variable de cupones o campañas?.. Hacer CASE con online/offline\n",
    "SUM(total_kilos_pedido) suma_kilos,\n",
    "SUM(p_CN02) suma_p_CN02,\n",
    "SUM(p_CN05)+SUM(p_CS05) suma_formato_05, \n",
    "SUM(p_CN11)+SUM(p_CS11) suma_formato_11, \n",
    "SUM(p_CN15)+SUM(p_CS15) suma_formato_15, \n",
    "SUM(p_CN45)+SUM(p_CS45) suma_formato_45, \n",
    "SUM(p_CGH15) suma_p_CGH15, \n",
    "SUM(p_CGH15_AL) suma_p_CGH15_AL, \n",
    "SUM(p_GGH15_AL) suma_p_GGH15_AL,\n",
    "ROUND(AVG(frecuencia),1) frec_compra_promedio_dias,\n",
    "IF(SUM(IF(tipo_pedido_bien = 'OFFLINE',1,0))>0,1,0) canal_offline,\n",
    "IF(SUM(IF(tipo_pedido_bien = 'ONLINE',1,0))>0,1,0) canal_online,\n",
    "IF(SUM(IF(tipo_pedido_bien NOT IN ('ONLINE','OFFLINE'),1,0))>0,1,0) otro_canal,\n",
    "IF(SUM(IF(paymentMethodDescription = 'Efectivo',1,0))>0,1,0) pago_efectivo,\n",
    "IF(SUM(IF(paymentMethodDescription = 'Tarjeta Debito/Credito',1,0))>0,1,0) pago_deb_cred,\n",
    "IF(SUM(IF(paymentMethodDescription = 'CuentaRUT/Ctas BancoEstado',1,0))>0,1,0) pago_bco_estado,\n",
    "IF(SUM(IF(paymentMethodDescription NOT IN ('CuentaRUT/Ctas BancoEstado','Tarjeta Debito/Credito','Efectivo'),1,0))>0,1,0) pago_otros,\n",
    "IF(SUM(estufa)>0,1,0) estufa,\n",
    "IF(SUM(cocina)>0,1,0) cocina,\n",
    "IF(SUM(calefont)>0,1,0) calefont,\n",
    "IF(SUM(parrilla)>0,1,0) parrilla\n",
    "FROM \n",
    "(SELECT clientes.*EXCEPT(telefono), pedidos_javier.*,\n",
    "DATE_DIFF(EXTRACT(DATE FROM createdat),LAG(EXTRACT(DATE FROM createdat)) OVER(PARTITION BY telefono ORDER BY EXTRACT(DATE FROM createdat)), DAY) frecuencia,\n",
    "row_number() OVER(PARTITION BY telefono ORDER BY createdat DESC) orden_pedidos_clientes,\n",
    "FROM\n",
    "(SELECT * FROM clientes) clientes\n",
    "LEFT JOIN (select *,\n",
    "CASE \n",
    "WHEN tipo_pedido_bien = 'OFFLINE' THEN customerNoIfOffline\n",
    "WHEN tipo_pedido_bien = 'ONLINE' THEN mobile\n",
    "ELSE null\n",
    "END AS telefono FROM `gasco.pedidos_gasconnect_todos_javier`) pedidos_javier\n",
    "USING(telefono)) \n",
    "GROUP BY telefono\n",
    ")\n",
    "WHERE mobile NOT IN ('949700781','987446282','946272711','959855281','937198925','982834413','940320641','933486794','968495840','982169639','976719792','976837510','946900115','952311351','966376800','938728120','920165243','937181726','936105770','999755969','956037246','971393407','964272568','996937599','958284792','944210340','972379273','931776921','981218376','930550981','938762481','949152671','989143697','969034005','986498191','920767324','944088616','975301909','920031082','994060817','965892521','953211031','956111329','995696387','966447842','996461327','997936889','933569506','933763374','936831280','985518824','973616165','959886604','965845250','973905440','956945238','965847403','954433370','957660478','948104628','966148636','967120855','947844436','969027661','959624405','977497046','950208898','957999693','989708139','986711311','982651844','952101141','962320325','933396681','948703345','972840071','981959179','975933937','945779141','945779142','937411889','978556265','951886537','932592671','964435798','987149470','920596293','987110816','979505347','935543084','996129257','954838361','959938922','950888056','936831280','954653898','965838210','965688521','959865600','956654007','942281547','965296076','972045344','968281852','942399781','992708206','952564809','976299318','997862235','950725383','930731503','944906499','931830297','935544746','966294876','989255095','994842012','966996365','978994717','978805734','965265205','942556019','935544746','967514899','950208898','968429653','940312619','987492429','963868077','994497785','965937013','948116910','986757302','945168176','973772861','954423660','987070184','950207273','968495840','976100365','991675804','973345579','946274646','995994648','982808794','931238125','985326354','930910440','981990488','955304961','966863150','978257363','935224124','984114608','952240390','932957108','938866484','947906680','990573502','950384188','962787325','995476328','932598533','935544746','920300776','977067735','941186610','945765224','997250292','941606975','950738096','920610205','998853511','993245736','920315263','964814674','982507874','956678416','920282559','978225968','945797466','995766773','987268438','991409989','968665725','920394138','935157070','978187654','964451113','930319282','940521015','936547434','971023190','966974624','936892997','989203774','935544746','957942982','987212671','963518304','954433370','940017083','973551964','961988683','977663841','972585152','946589725','964779674','984419260','997626843','941040263','937068078','972398188','940884370','944685598','937056940','949360373','988991779','949275692','946158245','968034996','961412983','986701122','958475876','998250053') \n",
    "OR customerNoifOffline NOT IN ('949700781','987446282','946272711','959855281','937198925','982834413','940320641','933486794','968495840','982169639','976719792','976837510','946900115','952311351','966376800','938728120','920165243','937181726','936105770','999755969','956037246','971393407','964272568','996937599','958284792','944210340','972379273','931776921','981218376','930550981','938762481','949152671','989143697','969034005','986498191','920767324','944088616','975301909','920031082','994060817','965892521','953211031','956111329','995696387','966447842','996461327','997936889','933569506','933763374','936831280','985518824','973616165','959886604','965845250','973905440','956945238','965847403','954433370','957660478','948104628','966148636','967120855','947844436','969027661','959624405','977497046','950208898','957999693','989708139','986711311','982651844','952101141','962320325','933396681','948703345','972840071','981959179','975933937','945779141','945779142','937411889','978556265','951886537','932592671','964435798','987149470','920596293','987110816','979505347','935543084','996129257','954838361','959938922','950888056','936831280','954653898','965838210','965688521','959865600','956654007','942281547','965296076','972045344','968281852','942399781','992708206','952564809','976299318','997862235','950725383','930731503','944906499','931830297','935544746','966294876','989255095','994842012','966996365','978994717','978805734','965265205','942556019','935544746','967514899','950208898','968429653','940312619','987492429','963868077','994497785','965937013','948116910','986757302','945168176','973772861','954423660','987070184','950207273','968495840','976100365','991675804','973345579','946274646','995994648','982808794','931238125','985326354','930910440','981990488','955304961','966863150','978257363','935224124','984114608','952240390','932957108','938866484','947906680','990573502','950384188','962787325','995476328','932598533','935544746','920300776','977067735','941186610','945765224','997250292','941606975','950738096','920610205','998853511','993245736','920315263','964814674','982507874','956678416','920282559','978225968','945797466','995766773','987268438','991409989','968665725','920394138','935157070','978187654','964451113','930319282','940521015','936547434','971023190','966974624','936892997','989203774','935544746','957942982','987212671','963518304','954433370','940017083','973551964','961988683','977663841','972585152','946589725','964779674','984419260','997626843','941040263','937068078','972398188','940884370','944685598','937056940','949360373','988991779','949275692','946158245','968034996','961412983','986701122','958475876','998250053')\n",
    ")\"\"\"\n",
    "\n",
    "df_test = pd.read_gbq(query=query_test, project_id=PID, dialect=\"standard\", use_bqstorage_api=True)"
   ]
  },
  {
   "cell_type": "code",
   "execution_count": 20,
   "metadata": {
    "ExecuteTime": {
     "end_time": "2021-02-17T18:10:57.313852Z",
     "start_time": "2021-02-17T18:10:56.994904Z"
    }
   },
   "outputs": [
    {
     "name": "stdout",
     "output_type": "stream",
     "text": [
      "Parse progress: |█████████████████████████████████████████████████████████| 100%\n"
     ]
    }
   ],
   "source": [
    "df_h2o_test = h2o.H2OFrame(df_test)\n",
    "\n",
    "#Explícitamente transformar a categóricas\n",
    "for feature in categorical:\n",
    "    df_h2o_test[feature] = df_h2o_test[feature].asfactor()"
   ]
  },
  {
   "cell_type": "code",
   "execution_count": 21,
   "metadata": {
    "ExecuteTime": {
     "end_time": "2021-02-17T18:10:59.896046Z",
     "start_time": "2021-02-17T18:10:58.419937Z"
    }
   },
   "outputs": [
    {
     "name": "stdout",
     "output_type": "stream",
     "text": [
      "gbm prediction progress: |████████████████████████████████████████████████| 100%\n"
     ]
    }
   ],
   "source": [
    "#Load model, predecir y merge\n",
    "modelo = h2o.load_model(nombre_modelo)\n",
    "preds = modelo.predict(df_h2o_test)\n",
    "preds_y_datos = pd.concat([df_h2o_test.as_data_frame(), preds.as_data_frame()], axis=1)"
   ]
  },
  {
   "cell_type": "code",
   "execution_count": 22,
   "metadata": {
    "ExecuteTime": {
     "end_time": "2021-02-17T18:11:28.613171Z",
     "start_time": "2021-02-17T18:11:25.920584Z"
    }
   },
   "outputs": [
    {
     "name": "stderr",
     "output_type": "stream",
     "text": [
      "1it [00:02,  2.22s/it]\n"
     ]
    }
   ],
   "source": [
    "preds_y_datos.to_gbq(\"tmp.202102_prediccion_modelo_calefont\", project_id=PID, if_exists=\"replace\")"
   ]
  },
  {
   "cell_type": "code",
   "execution_count": null,
   "metadata": {},
   "outputs": [],
   "source": []
  },
  {
   "cell_type": "code",
   "execution_count": null,
   "metadata": {},
   "outputs": [],
   "source": []
  }
 ],
 "metadata": {
  "kernelspec": {
   "display_name": "Python [conda env:spike_basicoV5]",
   "language": "python",
   "name": "conda-env-spike_basicoV5-py"
  },
  "language_info": {
   "codemirror_mode": {
    "name": "ipython",
    "version": 3
   },
   "file_extension": ".py",
   "mimetype": "text/x-python",
   "name": "python",
   "nbconvert_exporter": "python",
   "pygments_lexer": "ipython3",
   "version": "3.6.7"
  }
 },
 "nbformat": 4,
 "nbformat_minor": 2
}
